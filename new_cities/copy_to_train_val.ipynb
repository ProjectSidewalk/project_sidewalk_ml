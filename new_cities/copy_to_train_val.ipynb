{
 "cells": [
  {
   "cell_type": "code",
   "execution_count": 15,
   "metadata": {},
   "outputs": [],
   "source": [
    "import random\n",
    "import os\n",
    "from shutil import copyfile\n",
    "from collections import defaultdict"
   ]
  },
  {
   "cell_type": "code",
   "execution_count": 6,
   "metadata": {},
   "outputs": [],
   "source": [
    "# randomly copy with 80/20 split into the train and valsets"
   ]
  },
  {
   "cell_type": "code",
   "execution_count": 7,
   "metadata": {},
   "outputs": [],
   "source": [
    "src_path = \"/mnt/g/seattle_center_crops_researchers\"\n",
    "dst_path = \"/mnt/g/seattle_cc_researchers_partitioned\"\n",
    "\n",
    "if not os.path.isdir(dst_path):\n",
    "    os.mkdir(dst_path)"
   ]
  },
  {
   "cell_type": "code",
   "execution_count": 17,
   "metadata": {},
   "outputs": [
    {
     "name": "stdout",
     "output_type": "stream",
     "text": [
      "Loaded file bases for 6987 file pairs.\n"
     ]
    }
   ],
   "source": [
    "bases = set()\n",
    "c = 0\n",
    "\n",
    "for root, dirs, files in os.walk(src_path):\n",
    "    for f in files:\n",
    "        base, ext = os.path.splitext(os.path.join(root, f))\n",
    "        \n",
    "        if ext not in (\".json\", \".jpg\"): continue\n",
    "        \n",
    "        bases.add( base )\n",
    "        \n",
    "        c += 1\n",
    "\n",
    "print \"Loaded file bases for {} file pairs.\".format( len(bases) )"
   ]
  },
  {
   "cell_type": "code",
   "execution_count": 36,
   "metadata": {},
   "outputs": [
    {
     "name": "stdout",
     "output_type": "stream",
     "text": [
      "Creating folder for /mnt/g/seattle_cc_researchers_partitioned/train/null.\n",
      "Creating folder for /mnt/g/seattle_cc_researchers_partitioned/val/null.\n",
      "Creating folder for /mnt/g/seattle_cc_researchers_partitioned/val/ramp.\n",
      "Creating folder for /mnt/g/seattle_cc_researchers_partitioned/train/missing_ramp.\n",
      "Creating folder for /mnt/g/seattle_cc_researchers_partitioned/train/ramp.\n",
      "Creating folder for /mnt/g/seattle_cc_researchers_partitioned/train/sfc_problem.\n",
      "Creating folder for /mnt/g/seattle_cc_researchers_partitioned/val/missing_ramp.\n",
      "Creating folder for /mnt/g/seattle_cc_researchers_partitioned/train/obstruction.\n",
      "Creating folder for /mnt/g/seattle_cc_researchers_partitioned/val/sfc_problem.\n",
      "Creating folder for /mnt/g/seattle_cc_researchers_partitioned/val/obstruction.\n",
      "Copied 13974 files.\n"
     ]
    }
   ],
   "source": [
    "counts = defaultdict(lambda: defaultdict(int))\n",
    "c = 0\n",
    "\n",
    "for f in (\"train\", \"val\"):\n",
    "    os.mkdir( os.path.join(dst_path, f) )\n",
    "\n",
    "for base in bases:    \n",
    "    path, name = os.path.split(base)\n",
    "    _, label   = os.path.split(path)\n",
    "    \n",
    "    train = random.random() < .8\n",
    "    counts[\"train\" if train else \"val\"][label] += 1\n",
    "        \n",
    "    dst = os.path.join(dst_path, (\"train\" if train else \"val\"), label)\n",
    "    if not os.path.isdir(dst):\n",
    "        print \"Creating folder for {}.\".format(dst)\n",
    "        os.mkdir(dst)\n",
    "        \n",
    "    for ext in  (\".json\", \".jpg\"):\n",
    "        copyfile(base+ext, os.path.join(dst, name)+ext)\n",
    "        c += 1\n",
    "    \n",
    "    #if c > 100: break\n",
    "\n",
    "print \"Copied {} files.\".format(c)"
   ]
  },
  {
   "cell_type": "code",
   "execution_count": 43,
   "metadata": {},
   "outputs": [
    {
     "name": "stdout",
     "output_type": "stream",
     "text": [
      "Label            Train   Test\n",
      "sfc_problem        479    126\n",
      "null              3047    806\n",
      "ramp               907    227\n",
      "obstruction        329     85\n",
      "missing_ramp       784    197\n"
     ]
    }
   ],
   "source": [
    "# too lazy to sum rn\n",
    "\n",
    "print \"{:<15} {:>6} {:>6}\".format(\"Label\", \"Train\", \"Test\")\n",
    "    \n",
    "for label in counts['train'].keys():\n",
    "    print \"{:<15} {:6} {:6}\".format(label, counts['train'][label], counts[\"val\"][label])"
   ]
  },
  {
   "cell_type": "code",
   "execution_count": null,
   "metadata": {},
   "outputs": [],
   "source": []
  }
 ],
 "metadata": {
  "kernelspec": {
   "display_name": "Python 2",
   "language": "python",
   "name": "python2"
  },
  "language_info": {
   "codemirror_mode": {
    "name": "ipython",
    "version": 2
   },
   "file_extension": ".py",
   "mimetype": "text/x-python",
   "name": "python",
   "nbconvert_exporter": "python",
   "pygments_lexer": "ipython2",
   "version": "2.7.15"
  }
 },
 "nbformat": 4,
 "nbformat_minor": 2
}
