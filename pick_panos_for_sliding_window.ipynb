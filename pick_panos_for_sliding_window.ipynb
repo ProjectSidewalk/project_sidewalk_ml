{
 "cells": [
  {
   "cell_type": "code",
   "execution_count": 1,
   "metadata": {},
   "outputs": [],
   "source": [
    "import numpy as np\n",
    "import csv\n",
    "from collections import defaultdict\n",
    "\n",
    "from GSVutils.pano_feats import Pano, Feat\n",
    "from GSVutils import utils\n",
    "from GSVutils.sliding_window import sliding_window as sliding_window"
   ]
  },
  {
   "cell_type": "code",
   "execution_count": 2,
   "metadata": {},
   "outputs": [],
   "source": [
    "path_to_test_set = '/mnt/c/Users/gweld/sidewalk/sidewalk_ml/dataset_csvs/Test.csv'"
   ]
  },
  {
   "cell_type": "code",
   "execution_count": 3,
   "metadata": {},
   "outputs": [],
   "source": [
    "label_from_int   = ('Curb Cut', 'Missing Cut', 'Obstruction', 'Sfc Problem')\n"
   ]
  },
  {
   "cell_type": "markdown",
   "metadata": {},
   "source": [
    "# Let's start by counting the most featured panos\n",
    "we're of course using the number of sliding window features"
   ]
  },
  {
   "cell_type": "code",
   "execution_count": 4,
   "metadata": {},
   "outputs": [
    {
     "name": "stdout",
     "output_type": "stream",
     "text": [
      "Pano ID,SV_x,SV_y,Label,Photographer Heading,Heading,Label ID\r\n",
      "\n"
     ]
    }
   ],
   "source": [
    "with open(path_to_test_set) as testfile:\n",
    "    c = 0\n",
    "    for line in testfile:\n",
    "        print line\n",
    "        c += 1\n",
    "        if c>= 1:\n",
    "            break"
   ]
  },
  {
   "cell_type": "code",
   "execution_count": 5,
   "metadata": {},
   "outputs": [
    {
     "name": "stdout",
     "output_type": "stream",
     "text": [
      "Skipping header row: invalid literal for int() with base 10: 'Label'\n",
      "Counted 5736 panos\n"
     ]
    }
   ],
   "source": [
    "panos = defaultdict(Pano)\n",
    "count_feat_types = defaultdict(int)\n",
    "\n",
    "with open(path_to_test_set) as testfile:\n",
    "    reader = csv.reader(testfile)\n",
    "    for row in reader:\n",
    "        try:\n",
    "            pano_id = str( row[0] )\n",
    "            label = int(row[3])\n",
    "            \n",
    "            if label != 8:\n",
    "                count_feat_types[label] += 1\n",
    "                panos[pano_id].add_feature(row)\n",
    "        except ValueError as e:\n",
    "            print \"Skipping header row: \" + str(e)\n",
    "            \n",
    "print \"Counted {} panos\".format(len(panos))"
   ]
  },
  {
   "cell_type": "code",
   "execution_count": 6,
   "metadata": {},
   "outputs": [
    {
     "name": "stdout",
     "output_type": "stream",
     "text": [
      "Label Type     Count\n",
      "Curb Cut       19451\n",
      "Missing Cut    2616\n",
      "Obstruction    3314\n",
      "Sfc Problem    1288\n"
     ]
    }
   ],
   "source": [
    "print \"{:<15}{}\".format(\"Label Type\", \"Count\")\n",
    "for label, count in count_feat_types.iteritems():\n",
    "    label = label_from_int[label-1]\n",
    "    print \"{:<15}{}\".format(label, count)"
   ]
  },
  {
   "cell_type": "markdown",
   "metadata": {},
   "source": [
    "# Now we'll get the most featured panos\n",
    "Start by counting only panos with more than 2 feats"
   ]
  },
  {
   "cell_type": "code",
   "execution_count": 7,
   "metadata": {},
   "outputs": [],
   "source": [
    "ordered_panos = sorted(panos.values(), key=len, reverse=True)"
   ]
  },
  {
   "cell_type": "code",
   "execution_count": 8,
   "metadata": {
    "scrolled": true
   },
   "outputs": [
    {
     "name": "stdout",
     "output_type": "stream",
     "text": [
      "Pano                     Num Feats\n",
      "FuAR5U4N37LPhCrVvMHSvw   51\n",
      "Lhg2EP8ncy2mNgUHKpAXHQ   38\n",
      "r8xV9uj450_G6sqwhV7zdA   37\n",
      "DPzwfoyOpNV6_B6NWExt8w   36\n",
      "TvU-O_nTaDl2EuvndNoCsg   32\n",
      "6UjXUF1FhQlq4V4Gibta_A   31\n",
      "mHs0aBuNwIMTDkqWP-YAEA   31\n",
      "e_vboEbm4ucrMBV8Ptn7mA   31\n",
      "kLmJ0ybpt6X5lnh3FKT7ig   29\n",
      "mKJEu0QTrWbd__u-2EQRrw   29\n",
      "qYNYK5fOt0K1HVfWJofeiQ   29\n",
      "PQVKhjyL-KSR_IV5ZGncyg   29\n",
      "QYnXof6BgLa-CuLtFj4bGQ   28\n",
      "0Omi83SbAgOC6seLzT0WHw   28\n",
      "f_msPcvKGEbMv_50QjVrrg   28\n"
     ]
    }
   ],
   "source": [
    "print \"{:<25}{}\".format(\"Pano\", \"Num Feats\")\n",
    "for pano in ordered_panos[:15]:\n",
    "    print \"{:<25}{}\".format(pano.pano_id, len(pano)) "
   ]
  },
  {
   "cell_type": "markdown",
   "metadata": {},
   "source": [
    "# Let's take a look at the most featured pano"
   ]
  },
  {
   "cell_type": "code",
   "execution_count": 9,
   "metadata": {},
   "outputs": [
    {
     "name": "stdout",
     "output_type": "stream",
     "text": [
      "panoFuAR5U4N37LPhCrVvMHSvw\n",
      "Curb Cut at 10900.0,-700.0\n",
      "Curb Cut at 10700.0,-600.0\n",
      "Curb Cut at 10800.0,-600.0\n",
      "Curb Cut at 10900.0,-600.0\n",
      "Curb Cut at 11500.0,-600.0\n",
      "Curb Cut at 11600.0,-600.0\n",
      "Curb Cut at 1800.0,-900.0\n",
      "Curb Cut at 1900.0,-900.0\n",
      "Curb Cut at 2600.0,-900.0\n",
      "Curb Cut at 2800.0,-900.0\n",
      "Curb Cut at 7800.0,-300.0\n",
      "Curb Cut at 10800.0,-700.0\n",
      "Curb Cut at 2000.0,-900.0\n",
      "Curb Cut at 11500.0,-700.0\n",
      "Curb Cut at 11600.0,-700.0\n",
      "Curb Cut at 5800.0,-600.0\n",
      "Curb Cut at 7800.0,-500.0\n",
      "Curb Cut at 7900.0,-500.0\n",
      "Curb Cut at 8300.0,-500.0\n",
      "Curb Cut at 8400.0,-500.0\n",
      "Curb Cut at 8500.0,-500.0\n",
      "Curb Cut at 10800.0,-500.0\n",
      "Curb Cut at 10900.0,-500.0\n",
      "Curb Cut at 8400.0,-400.0\n",
      "Curb Cut at 5100.0,-400.0\n",
      "Curb Cut at 5200.0,-400.0\n",
      "Curb Cut at 5800.0,-400.0\n",
      "Curb Cut at 5900.0,-400.0\n",
      "Curb Cut at 7800.0,-400.0\n",
      "Curb Cut at 2600.0,-800.0\n",
      "Curb Cut at 5200.0,-500.0\n",
      "Curb Cut at 5700.0,-500.0\n",
      "Curb Cut at 5800.0,-500.0\n",
      "Curb Cut at 1800.0,-1000.0\n",
      "Curb Cut at 2700.0,-900.0\n",
      "Curb Cut at 5700.0,-400.0\n",
      "Curb Cut at 8400.0,-600.0\n",
      "Curb Cut at 1900.0,-1000.0\n",
      "Curb Cut at 2700.0,-1000.0\n",
      "Curb Cut at 5000.0,-400.0\n",
      "Curb Cut at 5600.0,-400.0\n",
      "Missing Cut at 8100.0,-500.0\n",
      "Missing Cut at 8100.0,-400.0\n",
      "Obstruction at 5300.0,-500.0\n",
      "Obstruction at 5300.0,-300.0\n",
      "Obstruction at 6100.0,-200.0\n",
      "Obstruction at 5300.0,-400.0\n",
      "Obstruction at 5200.0,-300.0\n",
      "Obstruction at 5800.0,-200.0\n",
      "Obstruction at 6000.0,-200.0\n",
      "Obstruction at 5800.0,-300.0\n",
      "\n"
     ]
    }
   ],
   "source": [
    "print ordered_panos[0]"
   ]
  },
  {
   "cell_type": "markdown",
   "metadata": {},
   "source": [
    "# And write them to a csv to use with "
   ]
  },
  {
   "cell_type": "code",
   "execution_count": 11,
   "metadata": {},
   "outputs": [
    {
     "name": "stdout",
     "output_type": "stream",
     "text": [
      "Writing Crops from FuAR5U4N37LPhCrVvMHSvw for file.\n",
      "\tWrote 2304 crops\n",
      "Writing Crops from Lhg2EP8ncy2mNgUHKpAXHQ for file.\n",
      "\tWrote 2304 crops\n",
      "Writing Crops from r8xV9uj450_G6sqwhV7zdA for file.\n",
      "\tWrote 2304 crops\n",
      "Writing Crops from DPzwfoyOpNV6_B6NWExt8w for file.\n",
      "\tWrote 2304 crops\n",
      "Writing Crops from TvU-O_nTaDl2EuvndNoCsg for file.\n",
      "\tWrote 2304 crops\n",
      "Writing Crops from 6UjXUF1FhQlq4V4Gibta_A for file.\n",
      "\tWrote 2304 crops\n",
      "Writing Crops from mHs0aBuNwIMTDkqWP-YAEA for file.\n",
      "\tWrote 2304 crops\n",
      "Writing Crops from e_vboEbm4ucrMBV8Ptn7mA for file.\n",
      "\tWrote 2304 crops\n",
      "Writing Crops from kLmJ0ybpt6X5lnh3FKT7ig for file.\n",
      "\tWrote 2304 crops\n",
      "Writing Crops from mKJEu0QTrWbd__u-2EQRrw for file.\n",
      "\tWrote 2304 crops\n",
      "Writing Crops from qYNYK5fOt0K1HVfWJofeiQ for file.\n",
      "\tWrote 2304 crops\n",
      "Writing Crops from PQVKhjyL-KSR_IV5ZGncyg for file.\n",
      "\tWrote 2304 crops\n",
      "Writing Crops from QYnXof6BgLa-CuLtFj4bGQ for file.\n",
      "\tWrote 2304 crops\n",
      "Writing Crops from 0Omi83SbAgOC6seLzT0WHw for file.\n",
      "\tWrote 2304 crops\n",
      "Writing Crops from f_msPcvKGEbMv_50QjVrrg for file.\n",
      "\tWrote 2304 crops\n",
      "Writing Crops from 9IXUNvStIOU6uOVOYuprDA for file.\n",
      "\tWrote 2304 crops\n",
      "Writing Crops from TAgBPfjTz_wr21oMEEjzYQ for file.\n",
      "\tWrote 2304 crops\n",
      "Writing Crops from qC4cdSmBQj4qRsW9LQszbw for file.\n",
      "\tWrote 2304 crops\n",
      "Writing Crops from Q_uMBEfXpE5NDr6F4sELsg for file.\n",
      "\tWrote 2304 crops\n",
      "Writing Crops from BGyxJcDXTrxpj0_qc7jkSQ for file.\n",
      "\tWrote 2304 crops\n",
      "Writing Crops from rj_-OOmLUniMvIgoKTJuew for file.\n",
      "\tWrote 2304 crops\n",
      "Writing Crops from 4AYWI7lE8bJRE6cltXyuVQ for file.\n",
      "\tWrote 2304 crops\n",
      "Writing Crops from wHBKjReGGXuEnGqB3UEr7w for file.\n",
      "\tWrote 2304 crops\n",
      "Writing Crops from hQsYQrPwZ5YrNhTx2sWm0g for file.\n",
      "\tWrote 2304 crops\n",
      "Writing Crops from IkhHkDM1nwyXAjlsfOka2Q for file.\n",
      "\tWrote 2304 crops\n",
      "Writing Crops from Ji9mu6AlBA4SyQs_7T4yNg for file.\n",
      "\tWrote 2304 crops\n",
      "Writing Crops from SWSJwn1j-XA6KGFiFqjt6Q for file.\n",
      "\tWrote 2304 crops\n",
      "Writing Crops from swKtudn9ylGoJtmWOVGnBQ for file.\n",
      "\tWrote 2304 crops\n",
      "Writing Crops from IH9rA7kVoR8ViKWQkY-FxQ for file.\n",
      "\tWrote 2304 crops\n",
      "Writing Crops from mIKGJoL2gXOJzTEsMK6YVA for file.\n",
      "\tWrote 2304 crops\n",
      "Writing Crops from hY6zPwZYBntuG0BuHdxbcw for file.\n",
      "\tWrote 2304 crops\n",
      "Writing Crops from qHn7Dg7dEmb3322VTJ4v2w for file.\n",
      "\tWrote 2304 crops\n",
      "Writing Crops from vTcR2wMz_rxd4EQxGZlmGA for file.\n",
      "\tWrote 2304 crops\n",
      "Writing Crops from EKvhRLf66-X4KJXGnw99Mg for file.\n",
      "\tWrote 2304 crops\n",
      "Writing Crops from 8lg6MoscENa1B_7ohWxQqw for file.\n",
      "\tWrote 2304 crops\n",
      "Writing Crops from jk1nd3wEBaU06oSPYrTbDw for file.\n",
      "\tWrote 2304 crops\n",
      "Writing Crops from 5odBLm9Vep3HZ064YwJ7Pg for file.\n",
      "\tWrote 2304 crops\n",
      "Writing Crops from MzWOMOJbKnjeWgVvLFeFGw for file.\n",
      "\tWrote 2304 crops\n",
      "Writing Crops from 6egGDG8IC8CEoBBa_1mV-A for file.\n",
      "\tWrote 2304 crops\n",
      "Writing Crops from 05sINyxQo4ar_7bFkMsnqg for file.\n",
      "\tWrote 2304 crops\n",
      "Writing Crops from Q4-k7aHgpAL0hVU4wyPM6A for file.\n",
      "\tWrote 2304 crops\n",
      "Writing Crops from VFwLiIjjSOHUAidDIdmFwg for file.\n",
      "\tWrote 2304 crops\n",
      "Writing Crops from m7VYWsPv9il6uYUpZJEvmA for file.\n",
      "\tWrote 2304 crops\n",
      "Writing Crops from Vopy2LxgejpD4YlYll1aTA for file.\n",
      "\tWrote 2304 crops\n",
      "Writing Crops from BrzY3-yHm46l0pSE0eWEgg for file.\n",
      "\tWrote 2304 crops\n",
      "Writing Crops from ks8PE6MggBW5ORyNS7P3Ew for file.\n",
      "\tWrote 2304 crops\n",
      "Writing Crops from SjhnIvIkoC2ZKUoE7xhCSg for file.\n",
      "\tWrote 2304 crops\n",
      "Writing Crops from TPTPvbClU8lt2f86RieMuQ for file.\n",
      "\tWrote 2304 crops\n",
      "Writing Crops from E6_jCrsPyNTxULpfQ7_7aQ for file.\n",
      "\tWrote 2304 crops\n",
      "Writing Crops from SVW-PRP0uMfODjcDFJ0eag for file.\n",
      "\tWrote 2304 crops\n"
     ]
    }
   ],
   "source": [
    "file_to_write = 'sliding_window_crops_to_make.csv'\n",
    "\n",
    "with open(file_to_write, 'w') as writefile:\n",
    "    writer = csv.writer(writefile)\n",
    "    writer.writerow(Feat.header_row())\n",
    "    for pano in ordered_panos[:50]:\n",
    "        crops_from_this_pano = 0\n",
    "        print \"Writing Crops from {} for file.\".format(pano.pano_id)\n",
    "        for feat in sliding_window(pano):\n",
    "            row = feat.to_row()\n",
    "            row[3] = pano\n",
    "            writer.writerow(row)\n",
    "            crops_from_this_pano += 1\n",
    "        print \"\\tWrote {} crops\".format(crops_from_this_pano)\n"
   ]
  },
  {
   "cell_type": "code",
   "execution_count": null,
   "metadata": {},
   "outputs": [],
   "source": []
  }
 ],
 "metadata": {
  "kernelspec": {
   "display_name": "Python 2",
   "language": "python",
   "name": "python2"
  },
  "language_info": {
   "codemirror_mode": {
    "name": "ipython",
    "version": 2
   },
   "file_extension": ".py",
   "mimetype": "text/x-python",
   "name": "python",
   "nbconvert_exporter": "python",
   "pygments_lexer": "ipython2",
   "version": "2.7.15"
  }
 },
 "nbformat": 4,
 "nbformat_minor": 2
}
