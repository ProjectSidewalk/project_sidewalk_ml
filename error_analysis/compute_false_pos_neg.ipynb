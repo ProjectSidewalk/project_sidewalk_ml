{
 "cells": [
  {
   "cell_type": "markdown",
   "metadata": {},
   "source": [
    "# Compute False Positives and Negatives for Each Label Type\n",
    "\n",
    "This should help with error analysis\n",
    "\n",
    "We take as input the .csv exported from the save_classifications.py file"
   ]
  },
  {
   "cell_type": "code",
   "execution_count": 7,
   "metadata": {},
   "outputs": [],
   "source": [
    "import os\n",
    "import csv\n",
    "from collections import defaultdict\n",
    "import random"
   ]
  },
  {
   "cell_type": "code",
   "execution_count": 2,
   "metadata": {},
   "outputs": [],
   "source": [
    "predictions_csv = '20e_slid_win_w_feats_r18.csv'"
   ]
  },
  {
   "cell_type": "code",
   "execution_count": 11,
   "metadata": {},
   "outputs": [],
   "source": [
    "false_pos = defaultdict(set)\n",
    "false_neg = defaultdict(set)"
   ]
  },
  {
   "cell_type": "code",
   "execution_count": 13,
   "metadata": {},
   "outputs": [
    {
     "name": "stdout",
     "output_type": "stream",
     "text": [
      "Counted 100 items, 73.0% correct.\n",
      "\n",
      "Label           #FP   #FN  \n",
      "null_crop       16    2    \n",
      "ramp            10    0    \n",
      "missing_ramp    1     10   \n"
     ]
    }
   ],
   "source": [
    "with open(predictions_csv) as f:\n",
    "    reader = csv.DictReader(f)\n",
    "    num_items = 0\n",
    "    num_wrong = 0\n",
    "    for item in reader:\n",
    "        num_items += 1\n",
    "        actual    = item['Actual']\n",
    "        predicted = item['Predicted']\n",
    "        \n",
    "        if actual != predicted:\n",
    "            num_wrong += 1\n",
    "            false_pos[predicted].add(item['File'])\n",
    "            false_neg[actual   ].add(item['File'])\n",
    "            \n",
    "print \"Counted {} items, {}% correct.\".format(num_items, 100*(float(num_items - num_wrong)/num_items))\n",
    "print \"\"\n",
    "print \"{:<15} {:<5} {:<5}\".format(\"Label\", \"#FP\", \"#FN\")\n",
    "for label, fp in false_pos.items():\n",
    "    fn = false_neg[label]\n",
    "    print \"{:<15} {:<5} {:<5}\".format(label, len(fp), len(fn))"
   ]
  },
  {
   "cell_type": "code",
   "execution_count": null,
   "metadata": {},
   "outputs": [],
   "source": []
  }
 ],
 "metadata": {
  "kernelspec": {
   "display_name": "Python 2",
   "language": "python",
   "name": "python2"
  },
  "language_info": {
   "codemirror_mode": {
    "name": "ipython",
    "version": 2
   },
   "file_extension": ".py",
   "mimetype": "text/x-python",
   "name": "python",
   "nbconvert_exporter": "python",
   "pygments_lexer": "ipython2",
   "version": "2.7.15"
  }
 },
 "nbformat": 4,
 "nbformat_minor": 2
}
