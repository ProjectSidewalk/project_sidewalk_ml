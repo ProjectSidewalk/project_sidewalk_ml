{
 "cells": [
  {
   "cell_type": "code",
   "execution_count": 3,
   "metadata": {},
   "outputs": [],
   "source": [
    "import csv\n",
    "import os\n",
    "from collections import defaultdict\n",
    "import random\n",
    "import sys\n",
    "sys.path.append('/mnt/c/Users/gweld/sidewalk/sidewalk_ml/')\n",
    "\n",
    "import GSVutils.utils\n",
    "from GSVutils.utils import GSV_IMAGE_WIDTH, GSV_IMAGE_HEIGHT\n",
    "from GSVutils.point import Point"
   ]
  },
  {
   "cell_type": "code",
   "execution_count": 4,
   "metadata": {},
   "outputs": [],
   "source": [
    "newberg_csv = 'newberg-labels.csv'\n",
    "seattle_csv = 'seattle-labels.csv'\n",
    "gt_csv      = '/mnt/c/Users/gweld/sidewalk/sidewalk_ml/ground_truth/ground_truth_labels.csv'\n",
    "\n",
    "#run_on = (newberg_csv, seattle_csv)\n",
    "run_on = (gt_csv,)"
   ]
  },
  {
   "cell_type": "code",
   "execution_count": 5,
   "metadata": {},
   "outputs": [],
   "source": [
    "num_nulls_per_pano = 2\n",
    "x_min, x_max = 300, GSV_IMAGE_WIDTH - 300\n",
    "y_min, y_max = -1700, 0\n",
    "distance_thresh = 700"
   ]
  },
  {
   "cell_type": "code",
   "execution_count": 6,
   "metadata": {},
   "outputs": [],
   "source": [
    "label_from_int   = ('Curb Cut', 'Missing Cut', 'Obstruction', 'Sfc Problem', '5', '6', '7')"
   ]
  },
  {
   "cell_type": "code",
   "execution_count": 7,
   "metadata": {},
   "outputs": [
    {
     "name": "stdout",
     "output_type": "stream",
     "text": [
      "['gsv_panorama_id', 'sv_image_x', 'sv_image_y', 'label_type_id', 'photagrapher_heading', 'heading', 'is_researcher']\n",
      "['stxXyCKAbd73DmkM2vsIHA', '9676', '-455', '1', '50.4137916565', '253.375', 't']\n"
     ]
    }
   ],
   "source": [
    "with open(newberg_csv) as f:\n",
    "    reader = csv.reader(f)\n",
    "    print next(reader)\n",
    "    print next(reader)"
   ]
  },
  {
   "cell_type": "code",
   "execution_count": 10,
   "metadata": {},
   "outputs": [
    {
     "name": "stdout",
     "output_type": "stream",
     "text": [
      "Got photographer headings for 145 panos.\n"
     ]
    }
   ],
   "source": [
    "photog_headings = dict()\n",
    "for input_file in run_on:\n",
    "    with open(input_file) as input_f:\n",
    "        reader = csv.DictReader(input_f)\n",
    "        for row in reader:\n",
    "            pano_id = row['gsv_panorama_id']\n",
    "            photog_heading = row['photographer_heading'] # if this gives an error, try 'photoagrapher'\n",
    "            if pano_id not in photog_headings:\n",
    "                photog_headings[pano_id] = float(photog_heading)\n",
    "\n",
    "print \"Got photographer headings for {} panos.\".format(len(photog_headings))"
   ]
  },
  {
   "cell_type": "code",
   "execution_count": 13,
   "metadata": {},
   "outputs": [
    {
     "name": "stdout",
     "output_type": "stream",
     "text": [
      "Loaded 1163 features for 145 panos.\n",
      "wrote 290 nulls to /mnt/c/Users/gweld/sidewalk/sidewalk_ml/ground_truth/ground_truth_labels-null.csv\n",
      "\n"
     ]
    }
   ],
   "source": [
    "for input_file in run_on:\n",
    "    output_file, _ = os.path.splitext(input_file)\n",
    "    output_file += '-null.csv'\n",
    "    \n",
    "    with open(input_file) as input_f, open(output_file, 'w') as output_f:\n",
    "        panos = defaultdict(set)\n",
    "        feats = 0\n",
    "        reader = csv.DictReader(input_f)\n",
    "        \n",
    "        num_nulls = 0\n",
    "        \n",
    "        for row in reader:\n",
    "            label = int(row['label_type_id'])\n",
    "            pano_id = row['gsv_panorama_id']\n",
    "            \n",
    "            x = int(row['sv_image_x'])\n",
    "            y = int(row['sv_image_y'])\n",
    "            \n",
    "            point = Point(x,y)\n",
    "            \n",
    "            if label in (1,2,3,4):\n",
    "                panos[pano_id].add(point)\n",
    "                feats += 1\n",
    "        print \"Loaded {} features for {} panos.\".format(feats, len(panos))\n",
    "    \n",
    "        header = reader.fieldnames\n",
    "        writer = csv.DictWriter(output_f, header)\n",
    "        for pano_id, features in panos.items():\n",
    "            for _ in range(num_nulls_per_pano):\n",
    "                near_existing_feat = True\n",
    "                while near_existing_feat:\n",
    "                    x = random.randint(x_min, x_max)\n",
    "                    y = random.randint(y_min, y_max)\n",
    "                    null = Point(x,y)\n",
    "                    near_existing_feat = False\n",
    "                    for p in features:\n",
    "                        if p.dist(null) < distance_thresh:\n",
    "                            near_existing_feat = True\n",
    "                            break\n",
    "                \n",
    "                row = {}\n",
    "                row['gsv_panorama_id'] = pano_id\n",
    "                row['sv_image_x']      = x\n",
    "                row['sv_image_y']      = y\n",
    "                row['label_type_id']   = 8\n",
    "                row['photographer_heading'] = photog_headings[pano_id]\n",
    "                \n",
    "                writer.writerow(row)\n",
    "                num_nulls += 1\n",
    "    print \"wrote {} nulls to {}\".format(num_nulls, output_file)\n",
    "    print \"\""
   ]
  },
  {
   "cell_type": "code",
   "execution_count": null,
   "metadata": {},
   "outputs": [],
   "source": []
  }
 ],
 "metadata": {
  "kernelspec": {
   "display_name": "Python 2",
   "language": "python",
   "name": "python2"
  },
  "language_info": {
   "codemirror_mode": {
    "name": "ipython",
    "version": 2
   },
   "file_extension": ".py",
   "mimetype": "text/x-python",
   "name": "python",
   "nbconvert_exporter": "python",
   "pygments_lexer": "ipython2",
   "version": "2.7.15"
  }
 },
 "nbformat": 4,
 "nbformat_minor": 2
}
