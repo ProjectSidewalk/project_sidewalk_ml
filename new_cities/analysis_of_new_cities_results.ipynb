{
 "cells": [
  {
   "cell_type": "code",
   "execution_count": 1,
   "metadata": {},
   "outputs": [],
   "source": [
    "from collections import defaultdict\n",
    "import csv\n",
    "import os\n",
    "import random\n",
    "import matplotlib.pyplot as plt"
   ]
  },
  {
   "cell_type": "code",
   "execution_count": 12,
   "metadata": {},
   "outputs": [],
   "source": [
    "#esults_file = 'results/nbcc_dccc_20ep_re18_2ff1.csv'\n",
    "#results_file = 'results/newberg_20ep_cc_re18_2ff2.csv'\n",
    "results_file = 'results/seattle_seattle_20ep_re18_2ff2.csv'\n",
    "#results_file = 'train_on_dc_test_on_sea.csv'"
   ]
  },
  {
   "cell_type": "code",
   "execution_count": 13,
   "metadata": {},
   "outputs": [
    {
     "name": "stdout",
     "output_type": "stream",
     "text": [
      "Processed predictions for 1373 imgs.\n"
     ]
    }
   ],
   "source": [
    "class_actual    = defaultdict(int)\n",
    "class_predicted = defaultdict(int)\n",
    "class_correct   = defaultdict(int)\n",
    "\n",
    "count = 0\n",
    "with open(results_file) as f:\n",
    "    reader = csv.DictReader(f)\n",
    "    for row in reader:\n",
    "        a = row['Actual']\n",
    "        p = row['Predicted']\n",
    "        \n",
    "        class_actual[a] += 1\n",
    "        class_predicted[p] += 1\n",
    "        if a==p:\n",
    "            class_correct[a] += 1\n",
    "        count += 1\n",
    "\n",
    "print \"Processed predictions for {} imgs.\".format(count)"
   ]
  },
  {
   "cell_type": "code",
   "execution_count": 14,
   "metadata": {},
   "outputs": [
    {
     "name": "stdout",
     "output_type": "stream",
     "text": [
      "Label                 p        r       num  \n",
      "sfc_problem         064.44%  050.88    114\n",
      "null                084.21%  090.86    722\n",
      "ramp                088.83%  077.87    235\n",
      "obstruction         053.52%  042.22     90\n",
      "missing_ramp        075.33%  080.66    212\n",
      "Overall             080.55%  080.55   1373\n"
     ]
    }
   ],
   "source": [
    "print(\"{:<20}{:^6}   {:^6}   {:^6}\".format(\"Label\", \"p\", \"r\", \"num\"))\n",
    "for label in class_actual:\n",
    "    correct   = float(class_correct[label])\n",
    "    predicted = float(class_predicted[label])\n",
    "    actual    = float(class_actual[label])\n",
    "\n",
    "    p = 100 * (correct / predicted) if predicted >0 else float('nan')\n",
    "    r = 100 * (correct / actual)\n",
    "\n",
    "    print(\"{:20}{:06.2f}%  {:06.2f} {:6d}\".format(label, p, r, int(actual)))\n",
    "correct = float(sum(class_correct.values()))\n",
    "predicted = float(sum(class_predicted.values()))\n",
    "actual = float(sum(class_actual.values()))\n",
    "\n",
    "p = 100 * (correct / predicted) if predicted >0 else float('nan')\n",
    "r= 100 * (correct / actual)\n",
    "print(\"{:20}{:06.2f}%  {:06.2f} {:6d}\".format(\"Overall\", p, r, int(actual)))"
   ]
  },
  {
   "cell_type": "code",
   "execution_count": 11,
   "metadata": {},
   "outputs": [
    {
     "name": "stdout",
     "output_type": "stream",
     "text": [
      "Label            Acc   \n",
      "sfc_problem     047.37%\n",
      "null            088.23%\n",
      "obstruction     043.33%\n",
      "ramp            077.45%\n",
      "missing_ramp    077.36%\n",
      "overall         077.36%\n"
     ]
    }
   ],
   "source": [
    "print(\"{:<15} {:^6} \".format(\"Label\", \"Acc\"))\n",
    "for label in class_actual:\n",
    "    correct   = float(class_correct[label])\n",
    "    predicted = float(class_predicted[label])\n",
    "    actual    = float(class_actual[label])\n",
    "\n",
    "    p = 100 * (correct / predicted) if predicted >0 else float('nan')\n",
    "    r = 100 * (correct / actual)\n",
    "\n",
    "    print(\"{:15} {:06.2f}%\".format(label, r))\n",
    "overall = 100* (float( sum(class_correct.values()) )/ sum(class_actual.values()))\n",
    "print(\"{:15} {:06.2f}%\".format('overall', r))"
   ]
  },
  {
   "cell_type": "code",
   "execution_count": null,
   "metadata": {},
   "outputs": [],
   "source": []
  }
 ],
 "metadata": {
  "kernelspec": {
   "display_name": "Python 2",
   "language": "python",
   "name": "python2"
  },
  "language_info": {
   "codemirror_mode": {
    "name": "ipython",
    "version": 2
   },
   "file_extension": ".py",
   "mimetype": "text/x-python",
   "name": "python",
   "nbconvert_exporter": "python",
   "pygments_lexer": "ipython2",
   "version": "2.7.15"
  }
 },
 "nbformat": 4,
 "nbformat_minor": 2
}
