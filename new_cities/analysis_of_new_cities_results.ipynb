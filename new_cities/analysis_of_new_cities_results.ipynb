{
 "cells": [
  {
   "cell_type": "code",
   "execution_count": 1,
   "metadata": {},
   "outputs": [],
   "source": [
    "from collections import defaultdict\n",
    "import csv\n",
    "import os\n",
    "import random\n",
    "import matplotlib.pyplot as plt"
   ]
  },
  {
   "cell_type": "code",
   "execution_count": 2,
   "metadata": {},
   "outputs": [],
   "source": [
    "results_file = 'results/nbcc_dccc_20ep_re18_2ff1.csv'\n",
    "#results_file = 'seattle_20ep_new_old_re18_2.csv'"
   ]
  },
  {
   "cell_type": "code",
   "execution_count": 3,
   "metadata": {},
   "outputs": [
    {
     "name": "stdout",
     "output_type": "stream",
     "text": [
      "Processed predictions for 673 imgs.\n"
     ]
    }
   ],
   "source": [
    "class_actual    = defaultdict(int)\n",
    "class_predicted = defaultdict(int)\n",
    "class_correct   = defaultdict(int)\n",
    "\n",
    "count = 0\n",
    "with open(results_file) as f:\n",
    "    reader = csv.DictReader(f)\n",
    "    for row in reader:\n",
    "        a = row['Actual']\n",
    "        p = row['Predicted']\n",
    "        \n",
    "        class_actual[a] += 1\n",
    "        class_predicted[p] += 1\n",
    "        if a==p:\n",
    "            class_correct[a] += 1\n",
    "        count += 1\n",
    "\n",
    "print \"Processed predictions for {} imgs.\".format(count)"
   ]
  },
  {
   "cell_type": "code",
   "execution_count": 6,
   "metadata": {},
   "outputs": [
    {
     "name": "stdout",
     "output_type": "stream",
     "text": [
      "Label                 p        r       num  \n",
      "sfc_problem         056.67%  048.57     35\n",
      "null                092.22%  074.25    431\n",
      "ramp                066.50%  090.48    147\n",
      "obstruction         024.49%  066.67     18\n",
      "missing_ramp        061.70%  069.05     42\n",
      "Overall             075.93%  075.93    673\n"
     ]
    }
   ],
   "source": [
    "print(\"{:<20}{:^6}   {:^6}   {:^6}\".format(\"Label\", \"p\", \"r\", \"num\"))\n",
    "for label in class_actual:\n",
    "    correct   = float(class_correct[label])\n",
    "    predicted = float(class_predicted[label])\n",
    "    actual    = float(class_actual[label])\n",
    "\n",
    "    p = 100 * (correct / predicted) if predicted >0 else float('nan')\n",
    "    r = 100 * (correct / actual)\n",
    "\n",
    "    print(\"{:20}{:06.2f}%  {:06.2f} {:6d}\".format(label, p, r, int(actual)))\n",
    "correct = float(sum(class_correct.values()))\n",
    "predicted = float(sum(class_predicted.values()))\n",
    "actual = float(sum(class_actual.values()))\n",
    "\n",
    "p = 100 * (correct / predicted) if predicted >0 else float('nan')\n",
    "r= 100 * (correct / actual)\n",
    "print(\"{:20}{:06.2f}%  {:06.2f} {:6d}\".format(\"Overall\", p, r, int(actual)))"
   ]
  },
  {
   "cell_type": "code",
   "execution_count": 5,
   "metadata": {},
   "outputs": [
    {
     "name": "stdout",
     "output_type": "stream",
     "text": [
      "Label            Acc   \n",
      "sfc_problem     048.57%\n",
      "null            074.25%\n",
      "ramp            090.48%\n",
      "obstruction     066.67%\n",
      "missing_ramp    069.05%\n",
      "overall         069.05%\n"
     ]
    }
   ],
   "source": [
    "print(\"{:<15} {:^6} \".format(\"Label\", \"Acc\"))\n",
    "for label in class_actual:\n",
    "    correct   = float(class_correct[label])\n",
    "    predicted = float(class_predicted[label])\n",
    "    actual    = float(class_actual[label])\n",
    "\n",
    "    p = 100 * (correct / predicted) if predicted >0 else float('nan')\n",
    "    r = 100 * (correct / actual)\n",
    "\n",
    "    print(\"{:15} {:06.2f}%\".format(label, r))\n",
    "overall = 100* (float( sum(class_correct.values()) )/ sum(class_actual.values()))\n",
    "print(\"{:15} {:06.2f}%\".format('overall', r))"
   ]
  },
  {
   "cell_type": "code",
   "execution_count": null,
   "metadata": {},
   "outputs": [],
   "source": []
  }
 ],
 "metadata": {
  "kernelspec": {
   "display_name": "Python 2",
   "language": "python",
   "name": "python2"
  },
  "language_info": {
   "codemirror_mode": {
    "name": "ipython",
    "version": 2
   },
   "file_extension": ".py",
   "mimetype": "text/x-python",
   "name": "python",
   "nbconvert_exporter": "python",
   "pygments_lexer": "ipython2",
   "version": "2.7.15"
  }
 },
 "nbformat": 4,
 "nbformat_minor": 2
}
