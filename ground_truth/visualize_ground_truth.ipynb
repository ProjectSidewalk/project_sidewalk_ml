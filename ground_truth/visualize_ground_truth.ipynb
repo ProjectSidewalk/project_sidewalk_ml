{
 "cells": [
  {
   "cell_type": "code",
   "execution_count": 135,
   "metadata": {},
   "outputs": [],
   "source": [
    "from collections import defaultdict\n",
    "import sys\n",
    "import os\n",
    "import csv\n",
    "import shutil\n",
    "sys.path.append(\"/mnt/c/Users/gweld/sidewalk/sidewalk_ml/\")\n",
    "sys.path.append(\"/mnt/c/Users/gweld/sidewalk/sidewalk_ml/pytorch_pretrained\")\n",
    "\n",
    "from PIL import Image, ImageDraw, ImageFont, ImageColor\n",
    "import numpy as np\n",
    "\n",
    "import GSVutils.utils\n",
    "\n",
    "from GSVutils.point import Point as Point\n",
    "from GSVutils.pano_feats import Pano as Pano\n",
    "from GSVutils.pano_feats import Feat as Feat\n",
    "from GSVutils.clustering import non_max_sup\n",
    "from GSVutils.precision_recall import precision_recall, partition_based_on_correctness\n",
    "\n",
    "import torchvision\n",
    "from torchvision import datasets, models, transforms\n",
    "import torch\n",
    "import torch.nn as nn\n",
    "import torch.optim as optim\n",
    "from torch.optim import lr_scheduler\n",
    "\n",
    "from TwoFileFolder import TwoFileFolder\n",
    "from resnet_extended2 import extended_resnet18\n",
    "\n",
    "GSV_IMAGE_HEIGHT = GSVutils.utils.GSV_IMAGE_HEIGHT\n",
    "GSV_IMAGE_WIDTH  = GSVutils.utils.GSV_IMAGE_WIDTH"
   ]
  },
  {
   "cell_type": "code",
   "execution_count": 78,
   "metadata": {},
   "outputs": [],
   "source": [
    "label_from_int = ('Curb Cut', 'Missing Cut', 'Obstruction', 'Sfc Problem')\n"
   ]
  },
  {
   "cell_type": "code",
   "execution_count": 79,
   "metadata": {},
   "outputs": [],
   "source": [
    "sample_ground_truth = '/mnt/c/Users/gweld/sidewalk/sidewalk_ml/ground_truth/cv_output.csv'\n",
    "\n",
    "path_to_gsv_scrapes  = \"/mnt/f/scrapes_dump/\"\n",
    "#pano_db_export = '/mnt/c/Users/gweld/sidewalk/minus_onboard.csv'\n",
    "pano_db_export = sample_ground_truth"
   ]
  },
  {
   "cell_type": "code",
   "execution_count": 80,
   "metadata": {},
   "outputs": [
    {
     "name": "stdout",
     "output_type": "stream",
     "text": [
      "set(['QVBzWhGL0UYQAlOYe_EByA', 'tfbLvp9AXICPy1rVrevJIA', 'RFETpkMhl9_Ip91-iVFhLg', 's8GEb88vkcN3n7L9XSCOEw', 'UllByZTAKraVZUR5AsaTQw', 'xoJcAPI20GkVZhZEMXwe6A', 'cCSnGSMg3xL8X4hvjfie1w', 'Tlw9RExZSh3cezUjcMQDnw', '1R8sTrcpWMTmfOtH4Ima0A', 'Btx_jn4wzlB7lCJznodB8g', 'iTwDUyGnEjJleE6wMkbhXw', '273jMbv01qXmghYoMcrbnA', 'betttaqtbxoxAenR4qXzaQ', 'oelHXIPFCxM-GrqjXJ_Rjw', 'riixORAIsHjNKzXzO6ZiHQ', 'YRij4tm47MusTu-9BGYa1A', 'D1d8_1zf4MK2njkQRmTGZw', 'QDsRGDFJ8NDvjuMLLtQoJw'])\n"
     ]
    }
   ],
   "source": [
    "# get panos\n",
    "panos=set()\n",
    "\n",
    "with open(sample_ground_truth) as csvfile:\n",
    "    reader = csv.reader(csvfile)\n",
    "    reader.next()\n",
    "    for line in reader:\n",
    "        pano_id=line[0][1:-1]\n",
    "        panos.add(pano_id)\n",
    "\n",
    "print panos"
   ]
  },
  {
   "cell_type": "code",
   "execution_count": 88,
   "metadata": {},
   "outputs": [],
   "source": [
    "def convert_to_real_coords(sv_x, sv_y, pano_yaw_deg):\n",
    "    x = ((float(pano_yaw_deg) / 360) * GSV_IMAGE_WIDTH + sv_x) % GSV_IMAGE_WIDTH\n",
    "    y = GSV_IMAGE_HEIGHT / 2 - sv_y\n",
    "\n",
    "    return int(x), int(y)\n",
    "\n",
    "\n",
    "def convert_to_sv_coords(x, y, pano_yaw_deg):\n",
    "    sv_x = x - (float(pano_yaw_deg)/360 * GSV_IMAGE_WIDTH)\n",
    "    sv_y = GSV_IMAGE_HEIGHT / 2 - y\n",
    "\n",
    "    if sv_x < 0: sv_x += GSV_IMAGE_WIDTH \n",
    "\n",
    "    return int(sv_x), int(sv_y)\n"
   ]
  },
  {
   "cell_type": "code",
   "execution_count": 89,
   "metadata": {},
   "outputs": [],
   "source": [
    "def get_ground_truth(pano_id, true_pano_yaw_deg):\n",
    "    ''' returns dict of str coords mapped to int label '''\n",
    "    labels = {}\n",
    "    with open(pano_db_export, 'r') as csvfile:\n",
    "        reader = csv.reader(csvfile)\n",
    "\n",
    "        for row in reader:\n",
    "            if row[0][1:-1] != pano_id:\n",
    "                continue\n",
    "            x, y = int(row[1]), int(row[2])\n",
    "            label = int(row[3])-1 # compensate for 1-indexing\n",
    "            photog_heading = float(row[4])\n",
    "\n",
    "            pano_yaw_deg = 180 - photog_heading\n",
    "\n",
    "            x, y = convert_to_real_coords(x, y, pano_yaw_deg)\n",
    "            x, y = convert_to_sv_coords(x, y, true_pano_yaw_deg)\n",
    "\n",
    "            # ignore other labels \n",
    "            if label not in range(4):\n",
    "                continue\n",
    "\n",
    "            labels[\"{},{}\".format(x,y)] = label\n",
    "    return labels"
   ]
  },
  {
   "cell_type": "code",
   "execution_count": 122,
   "metadata": {
    "scrolled": true
   },
   "outputs": [
    {
     "name": "stdout",
     "output_type": "stream",
     "text": [
      "Getting ground truth for pano QVBzWhGL0UYQAlOYe_EByA\n",
      "\tFound 5 ground truth labels.\n",
      "Getting ground truth for pano tfbLvp9AXICPy1rVrevJIA\n",
      "\tFound 47 ground truth labels.\n",
      "Getting ground truth for pano RFETpkMhl9_Ip91-iVFhLg\n",
      "\tFound 3 ground truth labels.\n",
      "Getting ground truth for pano s8GEb88vkcN3n7L9XSCOEw\n",
      "\tFound 9 ground truth labels.\n",
      "Getting ground truth for pano UllByZTAKraVZUR5AsaTQw\n",
      "\tFound 24 ground truth labels.\n",
      "Getting ground truth for pano xoJcAPI20GkVZhZEMXwe6A\n",
      "skipping bad XML for pano xoJcAPI20GkVZhZEMXwe6A\n",
      "Getting ground truth for pano cCSnGSMg3xL8X4hvjfie1w\n",
      "\tFound 12 ground truth labels.\n",
      "Getting ground truth for pano Tlw9RExZSh3cezUjcMQDnw\n",
      "\tFound 7 ground truth labels.\n",
      "Getting ground truth for pano 1R8sTrcpWMTmfOtH4Ima0A\n",
      "\tFound 9 ground truth labels.\n",
      "Getting ground truth for pano Btx_jn4wzlB7lCJznodB8g\n",
      "\tFound 7 ground truth labels.\n",
      "Getting ground truth for pano iTwDUyGnEjJleE6wMkbhXw\n",
      "\tFound 6 ground truth labels.\n",
      "Getting ground truth for pano 273jMbv01qXmghYoMcrbnA\n",
      "\tFound 8 ground truth labels.\n",
      "Getting ground truth for pano betttaqtbxoxAenR4qXzaQ\n",
      "\tFound 13 ground truth labels.\n",
      "Getting ground truth for pano oelHXIPFCxM-GrqjXJ_Rjw\n",
      "\tFound 11 ground truth labels.\n",
      "Getting ground truth for pano riixORAIsHjNKzXzO6ZiHQ\n",
      "\tFound 10 ground truth labels.\n",
      "Getting ground truth for pano YRij4tm47MusTu-9BGYa1A\n",
      "\tFound 7 ground truth labels.\n",
      "Getting ground truth for pano D1d8_1zf4MK2njkQRmTGZw\n",
      "\tFound 10 ground truth labels.\n",
      "Getting ground truth for pano QDsRGDFJ8NDvjuMLLtQoJw\n",
      "\tFound 12 ground truth labels.\n"
     ]
    }
   ],
   "source": [
    "# get points for each pano\n",
    "ground_truths = {}\n",
    "for pano_id in panos:\n",
    "    print \"Getting ground truth for pano {}\".format(pano_id)\n",
    "    pano_xml_path   = os.path.join(path_to_gsv_scrapes, pano_id[:2], pano_id + \".xml\")\n",
    "    try:\n",
    "        true_pano_yaw_deg = GSVutils.utils.extract_panoyawdeg(pano_xml_path)\n",
    "    except IOError as e:\n",
    "        print \"skipping bad XML for pano {}\".format(pano_id)\n",
    "        continue\n",
    "\n",
    "    gt = get_ground_truth(pano_id, true_pano_yaw_deg)\n",
    "\n",
    "    print \"\\tFound {} ground truth labels.\".format(len(gt))\n",
    "    ground_truths[pano_id] = gt\n",
    "    \n"
   ]
  },
  {
   "cell_type": "code",
   "execution_count": 124,
   "metadata": {},
   "outputs": [],
   "source": [
    "def annotate(img, pano_yaw_deg, coords, label, color, show_coords=True, box=None):\n",
    "    \"\"\" takes in an image object and labels it at specified coords\n",
    "        translates streetview coords to pixel coords\n",
    "        if given a box, marks that box around the label\n",
    "    \"\"\"\n",
    "    sv_x, sv_y = coords\n",
    "    x = ((float(pano_yaw_deg) / 360) * GSV_IMAGE_WIDTH + sv_x) % GSV_IMAGE_WIDTH\n",
    "    y = GSV_IMAGE_HEIGHT / 2 - sv_y\n",
    "\n",
    "    if show_coords: label = \"{},{} {}\".format(sv_x, sv_y, label)\n",
    "\n",
    "    # radius for dot\n",
    "    r = 20\n",
    "    draw = ImageDraw.Draw(img)\n",
    "    draw.ellipse((x - r, y - r, x + r, y + r), fill=color)\n",
    "    if box is not None:\n",
    "        half_box = box/2\n",
    "        p1 = (x-half_box, y-half_box)\n",
    "        p2 = (x+half_box, y+half_box)\n",
    "        draw.rectangle([p1,p2], outline=color)\n",
    "\n",
    "    font  = ImageFont.truetype(\"roboto.ttf\", 60, encoding=\"unic\")\n",
    "    draw.text((x+r+10, y), label, fill=color, font=font)"
   ]
  },
  {
   "cell_type": "code",
   "execution_count": 128,
   "metadata": {},
   "outputs": [],
   "source": [
    "def show_predictions_on_image(pano_root, predictions, out_img, show_coords=True, show_box=False):\n",
    "    ''' annotates an image with a dict of string coordinates and labels\n",
    "        if ground truth: also gets the ground truth and displays that as well '''\n",
    "    pano_img_path   = pano_root + \".jpg\"\n",
    "    pano_xml_path   = pano_root + \".xml\"\n",
    "    pano_depth_path = pano_root + \".depth.txt\"\n",
    "    pano_yaw_deg    = GSVutils.utils.extract_panoyawdeg(pano_xml_path)\n",
    "\n",
    "    img = Image.open(pano_img_path)\n",
    "\n",
    "    def annotate_batch(predictions):\n",
    "        count = 0\n",
    "        for coords, prediction in predictions.iteritems():\n",
    "            sv_x, sv_y = map(float, coords.split(','))\n",
    "\n",
    "            if show_box:\n",
    "                x = ((float(pano_yaw_deg) / 360) * GSV_IMAGE_WIDTH + sv_x) % GSV_IMAGE_WIDTH\n",
    "                y = GSV_IMAGE_HEIGHT / 2 - sv_y\n",
    "                try:\n",
    "                    box = GSVutils.utils.predict_crop_size(x, y, GSV_IMAGE_WIDTH, GSV_IMAGE_HEIGHT, pano_depth_path)\n",
    "                except:\n",
    "                    print \"Couldn't get crop size... skipping box\"\n",
    "                    box = None\n",
    "            else: box = None\n",
    "\n",
    "            label = str(label_from_int[prediction])\n",
    "            if prediction == 0:\n",
    "                color = ImageColor.getrgb('green')\n",
    "            if prediction == 1:\n",
    "                color = ImageColor.getrgb('red')\n",
    "            if prediction == 2:\n",
    "                color = ImageColor.getrgb('blue')\n",
    "            if prediction == 3:\n",
    "                color = ImageColor.getrgb('purple')\n",
    "        \n",
    "            #print \"Found a {} at ({},{})\".format(label, sv_x, sv_y)\n",
    "            annotate(img, pano_yaw_deg, (sv_x, sv_y), label, color, show_coords, box)\n",
    "            count += 1\n",
    "        return count\n",
    "\n",
    "    pred = annotate_batch(predictions)\n",
    "\n",
    "    img.save(out_img)\n",
    "    print \"Marked {} ground truth labels on {}.\".format(pred, out_img)\n",
    "\n",
    "    return\n"
   ]
  },
  {
   "cell_type": "code",
   "execution_count": 131,
   "metadata": {},
   "outputs": [],
   "source": [
    "def batch_visualize_preds(outdir):\n",
    "    count = 0\n",
    "    for pano_id in ground_truths:\n",
    "        print \"Annotating {}\".format(pano_id)\n",
    "        predictions = ground_truths[pano_id]\n",
    "\n",
    "        outfile = os.path.join(outdir, pano_id+'.jpg')\n",
    "\n",
    "        pano_root = os.path.join(path_to_gsv_scrapes, pano_id[:2], pano_id)\n",
    "        show_predictions_on_image(pano_root, predictions, outfile, show_coords=False, show_box=True)\n",
    "        count += 1\n",
    "\n",
    "        #if count > 1: break\n",
    "    print \"Wrote predictions for {} panos to {}\".format(count, outdir)\n",
    "    return"
   ]
  },
  {
   "cell_type": "code",
   "execution_count": 132,
   "metadata": {
    "scrolled": true
   },
   "outputs": [
    {
     "name": "stdout",
     "output_type": "stream",
     "text": [
      "Annotating QVBzWhGL0UYQAlOYe_EByA\n",
      "Marked 5 ground truth labels on output/QVBzWhGL0UYQAlOYe_EByA.jpg.\n",
      "Annotating tfbLvp9AXICPy1rVrevJIA\n",
      "Marked 47 ground truth labels on output/tfbLvp9AXICPy1rVrevJIA.jpg.\n",
      "Annotating RFETpkMhl9_Ip91-iVFhLg\n",
      "Marked 3 ground truth labels on output/RFETpkMhl9_Ip91-iVFhLg.jpg.\n",
      "Annotating UllByZTAKraVZUR5AsaTQw\n",
      "Marked 24 ground truth labels on output/UllByZTAKraVZUR5AsaTQw.jpg.\n",
      "Annotating s8GEb88vkcN3n7L9XSCOEw\n",
      "Marked 9 ground truth labels on output/s8GEb88vkcN3n7L9XSCOEw.jpg.\n",
      "Annotating cCSnGSMg3xL8X4hvjfie1w\n",
      "Marked 12 ground truth labels on output/cCSnGSMg3xL8X4hvjfie1w.jpg.\n",
      "Annotating Tlw9RExZSh3cezUjcMQDnw\n",
      "Marked 7 ground truth labels on output/Tlw9RExZSh3cezUjcMQDnw.jpg.\n",
      "Annotating YRij4tm47MusTu-9BGYa1A\n",
      "Marked 7 ground truth labels on output/YRij4tm47MusTu-9BGYa1A.jpg.\n",
      "Annotating Btx_jn4wzlB7lCJznodB8g\n",
      "Marked 7 ground truth labels on output/Btx_jn4wzlB7lCJznodB8g.jpg.\n",
      "Annotating oelHXIPFCxM-GrqjXJ_Rjw\n",
      "Marked 11 ground truth labels on output/oelHXIPFCxM-GrqjXJ_Rjw.jpg.\n",
      "Annotating iTwDUyGnEjJleE6wMkbhXw\n",
      "Marked 6 ground truth labels on output/iTwDUyGnEjJleE6wMkbhXw.jpg.\n",
      "Annotating 273jMbv01qXmghYoMcrbnA\n",
      "Marked 8 ground truth labels on output/273jMbv01qXmghYoMcrbnA.jpg.\n",
      "Annotating betttaqtbxoxAenR4qXzaQ\n",
      "Marked 13 ground truth labels on output/betttaqtbxoxAenR4qXzaQ.jpg.\n",
      "Annotating 1R8sTrcpWMTmfOtH4Ima0A\n",
      "Couldn't get crop size... skipping box\n",
      "Marked 9 ground truth labels on output/1R8sTrcpWMTmfOtH4Ima0A.jpg.\n",
      "Annotating riixORAIsHjNKzXzO6ZiHQ\n",
      "Marked 10 ground truth labels on output/riixORAIsHjNKzXzO6ZiHQ.jpg.\n",
      "Annotating D1d8_1zf4MK2njkQRmTGZw\n",
      "Marked 10 ground truth labels on output/D1d8_1zf4MK2njkQRmTGZw.jpg.\n",
      "Annotating QDsRGDFJ8NDvjuMLLtQoJw\n",
      "Marked 12 ground truth labels on output/QDsRGDFJ8NDvjuMLLtQoJw.jpg.\n",
      "Wrote predictions for 17 panos to output/\n"
     ]
    }
   ],
   "source": [
    "batch_visualize_preds('output/')"
   ]
  },
  {
   "cell_type": "code",
   "execution_count": null,
   "metadata": {},
   "outputs": [],
   "source": []
  },
  {
   "cell_type": "code",
   "execution_count": 123,
   "metadata": {},
   "outputs": [
    {
     "data": {
      "text/plain": [
       "{'1,-345': 1, '2006,-81': 0, '3390,-101': 3, '3901,-318': 3, '4664,-655': 1}"
      ]
     },
     "execution_count": 123,
     "metadata": {},
     "output_type": "execute_result"
    }
   ],
   "source": [
    "ground_truths['QVBzWhGL0UYQAlOYe_EByA']"
   ]
  },
  {
   "cell_type": "code",
   "execution_count": 139,
   "metadata": {},
   "outputs": [],
   "source": [
    "# get unmarked_panos_for_comparison\n",
    "for pano_id in ground_truths:\n",
    "    pano_path = os.path.join(path_to_gsv_scrapes, pano_id[:2], pano_id + \".jpg\")\n",
    "    dest_path = os.path.join('output', pano_id +'_unmarked.jpg')\n",
    "    shutil.copyfile(pano_path, dest_path)"
   ]
  },
  {
   "cell_type": "code",
   "execution_count": null,
   "metadata": {},
   "outputs": [],
   "source": []
  },
  {
   "cell_type": "code",
   "execution_count": null,
   "metadata": {},
   "outputs": [],
   "source": []
  },
  {
   "cell_type": "code",
   "execution_count": null,
   "metadata": {},
   "outputs": [],
   "source": []
  },
  {
   "cell_type": "code",
   "execution_count": null,
   "metadata": {},
   "outputs": [],
   "source": []
  },
  {
   "cell_type": "code",
   "execution_count": null,
   "metadata": {},
   "outputs": [],
   "source": []
  },
  {
   "cell_type": "code",
   "execution_count": null,
   "metadata": {},
   "outputs": [],
   "source": []
  },
  {
   "cell_type": "code",
   "execution_count": null,
   "metadata": {},
   "outputs": [],
   "source": []
  }
 ],
 "metadata": {
  "kernelspec": {
   "display_name": "Python [conda env:sidewalk_pytorch]",
   "language": "python",
   "name": "conda-env-sidewalk_pytorch-py"
  },
  "language_info": {
   "codemirror_mode": {
    "name": "ipython",
    "version": 2
   },
   "file_extension": ".py",
   "mimetype": "text/x-python",
   "name": "python",
   "nbconvert_exporter": "python",
   "pygments_lexer": "ipython2",
   "version": "2.7.15"
  }
 },
 "nbformat": 4,
 "nbformat_minor": 2
}
