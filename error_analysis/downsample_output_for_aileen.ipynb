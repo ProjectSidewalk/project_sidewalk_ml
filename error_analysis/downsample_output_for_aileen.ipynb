{
 "cells": [
  {
   "cell_type": "code",
   "execution_count": 1,
   "metadata": {},
   "outputs": [],
   "source": [
    "#doing this here since I can't get the drive to mount - reusing previous output"
   ]
  },
  {
   "cell_type": "code",
   "execution_count": 5,
   "metadata": {},
   "outputs": [],
   "source": [
    "import os\n",
    "import random\n",
    "import shutil"
   ]
  },
  {
   "cell_type": "code",
   "execution_count": 19,
   "metadata": {},
   "outputs": [
    {
     "name": "stdout",
     "output_type": "stream",
     "text": [
      "output\n",
      "output/false_neg\n",
      "output/false_neg/missing_ramp\n",
      "output/false_neg/null\n",
      "output/false_neg/obstruction\n",
      "output/false_neg/ramp\n",
      "output/false_neg/sfc_problem\n",
      "output/false_pos\n",
      "output/false_pos/missing_ramp\n",
      "output/false_pos/null\n",
      "output/false_pos/obstruction\n",
      "output/false_pos/ramp\n",
      "output/false_pos/sfc_problem\n"
     ]
    }
   ],
   "source": [
    "for root, dirs, files in os.walk('output'):\n",
    "    print root\n",
    "    if len(files) < 4: continue\n",
    "    sample = random.sample(files, 50)\n",
    "    \n",
    "    if not os.path.isdir(root.replace('output', 'output_small')):\n",
    "        os.mkdir(root.replace('output', 'output_small'))\n",
    "    \n",
    "    for f in sample:\n",
    "        src = os.path.join(root, f)\n",
    "        dst = os.path.join(root.replace('output', 'output_small'), f)\n",
    "        shutil.copy(src, dst)"
   ]
  },
  {
   "cell_type": "code",
   "execution_count": null,
   "metadata": {},
   "outputs": [],
   "source": []
  }
 ],
 "metadata": {
  "kernelspec": {
   "display_name": "Python 2",
   "language": "python",
   "name": "python2"
  },
  "language_info": {
   "codemirror_mode": {
    "name": "ipython",
    "version": 2
   },
   "file_extension": ".py",
   "mimetype": "text/x-python",
   "name": "python",
   "nbconvert_exporter": "python",
   "pygments_lexer": "ipython2",
   "version": "2.7.15"
  }
 },
 "nbformat": 4,
 "nbformat_minor": 2
}
