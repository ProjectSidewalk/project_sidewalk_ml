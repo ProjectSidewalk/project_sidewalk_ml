{
 "cells": [
  {
   "cell_type": "markdown",
   "metadata": {},
   "source": [
    "# Compute False Positives and Negatives for Each Label Type\n",
    "\n",
    "This should help with error analysis\n",
    "\n",
    "We take as input the .csv exported from the save_classifications.py file"
   ]
  },
  {
   "cell_type": "code",
   "execution_count": 1,
   "metadata": {},
   "outputs": [],
   "source": [
    "import os\n",
    "import csv\n",
    "from collections import defaultdict\n",
    "import random\n",
    "import matplotlib.pyplot as plt\n",
    "import shutil\n",
    "import numpy as np\n",
    "\n",
    "from sklearn.metrics import confusion_matrix\n",
    "from sklearn.utils.multiclass import unique_labels"
   ]
  },
  {
   "cell_type": "code",
   "execution_count": 2,
   "metadata": {},
   "outputs": [],
   "source": [
    "num_to_sample = 75"
   ]
  },
  {
   "cell_type": "code",
   "execution_count": 10,
   "metadata": {},
   "outputs": [],
   "source": [
    "predictions_csv = '20ep_new_old_re18_2.csv' # using ground truth"
   ]
  },
  {
   "cell_type": "code",
   "execution_count": 3,
   "metadata": {},
   "outputs": [],
   "source": [
    "dataset_path = '/mnt/g/ground_truth_cc_dataset'\n",
    "\n",
    "output_path = 'output_true'\n",
    "if not os.path.isdir(output_path):\n",
    "    os.mkdir(output_path)"
   ]
  },
  {
   "cell_type": "code",
   "execution_count": 4,
   "metadata": {},
   "outputs": [],
   "source": [
    "false_pos = defaultdict(set)\n",
    "# these are things that shouldn't have been labeled as [label] but were\n",
    "\n",
    "false_neg = defaultdict(set)\n",
    "# these are things that should have been labeled as [label] but weren't\n",
    "\n",
    "true_pos = defaultdict(set)\n",
    "# correct!"
   ]
  },
  {
   "cell_type": "code",
   "execution_count": 5,
   "metadata": {},
   "outputs": [
    {
     "name": "stdout",
     "output_type": "stream",
     "text": [
      "Counted 20461 items, 89.99% correct.\n",
      "\n",
      "Label           #FP   #FN  \n",
      "sfc_problem     171   356  \n",
      "null            115   85   \n",
      "missing_ramp    368   742  \n",
      "ramp            1037  464  \n",
      "obstruction     357   401  \n"
     ]
    }
   ],
   "source": [
    "with open(predictions_csv) as f:\n",
    "    reader = csv.DictReader(f)\n",
    "    num_items = 0\n",
    "    num_wrong = 0\n",
    "    for item in reader:\n",
    "        num_items += 1\n",
    "        actual    = item['Actual']\n",
    "        predicted = item['Predicted']\n",
    "        \n",
    "        if actual != predicted:\n",
    "            num_wrong += 1\n",
    "            false_pos[predicted].add(item['File'])\n",
    "            false_neg[actual   ].add(item['File'])\n",
    "        \n",
    "        else:\n",
    "            true_pos[actual].add(item['File'])\n",
    "            \n",
    "print \"Counted {} items, {:5.2f}% correct.\".format(num_items, 100*(float(num_items - num_wrong)/num_items))\n",
    "print \"\"\n",
    "print \"{:<15} {:<5} {:<5}\".format(\"Label\", \"#FP\", \"#FN\")\n",
    "for label, fp in false_pos.items():\n",
    "    fn = false_neg[label]\n",
    "    print \"{:<15} {:<5} {:<5}\".format(label, len(fp), len(fn))"
   ]
  },
  {
   "cell_type": "code",
   "execution_count": 231,
   "metadata": {},
   "outputs": [],
   "source": [
    "# premade example here https://scikit-learn.org/stable/auto_examples/model_selection/plot_confusion_matrix.html\n",
    "\n",
    "def plot_confusion_matrix(y_true, y_pred, classes,\n",
    "                          normalize=False,\n",
    "                          cmap=plt.cm.Blues, cbar=False, figsize=(3,3)):\n",
    "    \"\"\"\n",
    "    This function prints and plots the confusion matrix.\n",
    "    Normalization can be applied by setting `normalize=True`.\n",
    "    \"\"\"\n",
    "\n",
    "\n",
    "    # Compute confusion matrix\n",
    "    cm = confusion_matrix(y_true, y_pred)\n",
    "    cm = cm.T\n",
    "    # Only use the labels that appear in the data\n",
    "    classes = classes[unique_labels(y_true, y_pred)]\n",
    "    if normalize:\n",
    "        cm = cm.astype('float') / cm.sum(axis=1)[:, np.newaxis]\n",
    "        print(\"Normalized confusion matrix\")\n",
    "    else:\n",
    "        print('Confusion matrix, without normalization')\n",
    "\n",
    "    print(cm)\n",
    "\n",
    "    fig, ax = plt.subplots()\n",
    "    im = ax.imshow(cm, interpolation='nearest', cmap=cmap)\n",
    "    if cbar: ax.figure.colorbar(im, ax=ax)\n",
    "    # We want to show all ticks...\n",
    "    ax.set(xticks=np.arange(cm.shape[1]),\n",
    "           yticks=np.arange(cm.shape[0]),\n",
    "           # ... and label them with the respective list entries\n",
    "           xticklabels=classes, yticklabels=classes,\n",
    "           xlabel='True label',\n",
    "           ylabel='Predicted label')\n",
    "\n",
    "    # Rotate the tick labels and set their alignment.\n",
    "    plt.setp(ax.get_xticklabels(), rotation=45, ha=\"right\",\n",
    "             rotation_mode=\"anchor\")\n",
    "    plt.setp(ax.get_yticklabels(), rotation=45, ha=\"right\",\n",
    "             rotation_mode=\"anchor\")\n",
    "\n",
    "    # Loop over data dimensions and create text annotations.\n",
    "    fmt = '0.2f' if normalize else 'd'\n",
    "    thresh = cm.max() / 2.\n",
    "    for i in range(cm.shape[0]):\n",
    "        for j in range(cm.shape[1]):\n",
    "            ax.text(j, i, format(cm[i, j], fmt)[1:],\n",
    "                    ha=\"center\", va=\"center\",\n",
    "                    color=\"white\" if cm[i, j] > thresh else \"black\", fontsize=16)\n",
    "    fig.set_size_inches(figsize)\n",
    "    fig.tight_layout()\n",
    "    return ax"
   ]
  },
  {
   "cell_type": "code",
   "execution_count": 232,
   "metadata": {},
   "outputs": [],
   "source": [
    "pretty_labels = ('Ramp', 'Missing Ramp', 'Sfc Problem', 'Obstruction', 'Null')\n",
    "ugly_labels   = ('ramp', 'missing_ramp', 'sfc_problem', 'obstruction', 'null')\n",
    "\n",
    "y_true = []\n",
    "y_pred = []\n",
    "\n",
    "with open(predictions_csv) as f:\n",
    "    reader = csv.DictReader(f)\n",
    "    num_items = 0\n",
    "    for item in reader:\n",
    "        num_items += 1\n",
    "        actual    = ugly_labels.index(item['Actual'])\n",
    "        predicted = ugly_labels.index(item['Predicted'])\n",
    "        \n",
    "        y_true.append(actual)\n",
    "        y_pred.append(predicted)"
   ]
  },
  {
   "cell_type": "code",
   "execution_count": 233,
   "metadata": {},
   "outputs": [
    {
     "name": "stdout",
     "output_type": "stream",
     "text": [
      "Normalized confusion matrix\n",
      "[[0.9318122  0.03761178 0.01196739 0.01643872 0.00216991]\n",
      " [0.11882427 0.76985616 0.04878049 0.04690432 0.01563477]\n",
      " [0.09090909 0.06926407 0.75324675 0.07359307 0.01298701]\n",
      " [0.07350187 0.04681648 0.03838951 0.83286517 0.00842697]\n",
      " [0.06545455 0.02666667 0.0169697  0.03030303 0.86060606]]\n"
     ]
    },
    {
     "data": {
      "image/png": "[encoded data removed]",
      "text/plain": [
       "<Figure size 302.4x360 with 1 Axes>"
      ]
     },
     "metadata": {
      "needs_background": "light"
     },
     "output_type": "display_data"
    }
   ],
   "source": [
    "plot_confusion_matrix(y_true, y_pred, np.array(pretty_labels), normalize=True,cmap=plt.cm.Blues, figsize=(4.2,5))\n",
    "plt.savefig('/Users/galenweld/sidewalk-cv-assets19/figures_for_paper/pngs/confusion_matrix.png', dpi = 300)\n",
    "plt.show()"
   ]
  },
  {
   "cell_type": "code",
   "execution_count": null,
   "metadata": {},
   "outputs": [],
   "source": []
  },
  {
   "cell_type": "markdown",
   "metadata": {},
   "source": [
    "# copy predictions to directories"
   ]
  },
  {
   "cell_type": "code",
   "execution_count": 22,
   "metadata": {},
   "outputs": [],
   "source": [
    "#for kind, d in (('false_pos', false_pos), ('false_neg', false_neg), ('true_pos', true_pos)):\n",
    "for kind, d in (('true_pos', true_pos),):\n",
    "\n",
    "    if not os.path.isdir( os.path.join(output_path, kind) ):\n",
    "        os.mkdir( os.path.join(output_path, kind) )\n",
    "    \n",
    "    for label, paths in d.items():\n",
    "        if len(paths) > num_to_sample:\n",
    "            sample = random.sample(paths, num_to_sample)\n",
    "        else: sample = paths\n",
    "        for shortpath in sample:\n",
    "            completepath = os.path.join(dataset_path, shortpath)\n",
    "            _, filename = os.path.split(shortpath)\n",
    "            destdir = os.path.join(output_path, kind, label)\n",
    "            if not os.path.isdir(destdir):\n",
    "                os.mkdir(destdir)\n",
    "            destpath = os.path.join(destdir, filename)\n",
    "            shutil.copy(completepath, destpath)"
   ]
  },
  {
   "cell_type": "code",
   "execution_count": null,
   "metadata": {},
   "outputs": [],
   "source": []
  },
  {
   "cell_type": "markdown",
   "metadata": {},
   "source": [
    "# Bar plot of precision and recall?"
   ]
  },
  {
   "cell_type": "code",
   "execution_count": 6,
   "metadata": {},
   "outputs": [
    {
     "name": "stdout",
     "output_type": "stream",
     "text": [
      "Processed predictions for 20461 imgs.\n"
     ]
    }
   ],
   "source": [
    "class_actual    = defaultdict(int)\n",
    "class_predicted = defaultdict(int)\n",
    "class_correct   = defaultdict(int)\n",
    "\n",
    "count = 0\n",
    "with open('20ep_new_old_re18_2.csv') as f:\n",
    "    reader = csv.DictReader(f)\n",
    "    for row in reader:\n",
    "        a = row['Actual']\n",
    "        p = row['Predicted']\n",
    "        \n",
    "        class_actual[a] += 1\n",
    "        class_predicted[p] += 1\n",
    "        if a==p:\n",
    "            class_correct[a] += 1\n",
    "        count += 1\n",
    "\n",
    "print \"Processed predictions for {} imgs.\".format(count)"
   ]
  },
  {
   "cell_type": "code",
   "execution_count": 57,
   "metadata": {},
   "outputs": [
    {
     "name": "stdout",
     "output_type": "stream",
     "text": [
      "Label                 p        r       num  \n",
      "sfc_problem         075.32%  059.45    878\n",
      "obstruction         083.29%  081.61   2180\n",
      "null                086.06%  089.31    795\n",
      "ramp                093.18%  096.83  14635\n",
      "missing_ramp        076.99%  062.39   1973\n",
      "Overall             089.99%  089.99  20461\n"
     ]
    }
   ],
   "source": [
    "pr = {}\n",
    "rc = {}\n",
    "\n",
    "print(\"{:<20}{:^6}   {:^6}   {:^6}\".format(\"Label\", \"p\", \"r\", \"num\"))\n",
    "for label in class_actual:\n",
    "    correct   = float(class_correct[label])\n",
    "    predicted = float(class_predicted[label])\n",
    "    actual    = float(class_actual[label])\n",
    "\n",
    "    p = 100 * (correct / predicted) if predicted >0 else float('nan')\n",
    "    r = 100 * (correct / actual)\n",
    "    \n",
    "    pr[label] = p\n",
    "    rc[label] = r\n",
    "\n",
    "    print(\"{:20}{:06.2f}%  {:06.2f} {:6d}\".format(label, p, r, int(actual)))\n",
    "correct = float(sum(class_correct.values()))\n",
    "predicted = float(sum(class_predicted.values()))\n",
    "actual = float(sum(class_actual.values()))\n",
    "\n",
    "p = 100 * (correct / predicted) if predicted >0 else float('nan')\n",
    "r= 100 * (correct / actual)\n",
    "print(\"{:20}{:06.2f}%  {:06.2f} {:6d}\".format(\"Overall\", p, r, int(actual)))\n",
    "\n",
    "pr[\"Overall\"] = p\n",
    "rc[\"Overall\"] = r"
   ]
  },
  {
   "cell_type": "code",
   "execution_count": 235,
   "metadata": {},
   "outputs": [
    {
     "data": {
      "image/png": "[encoded data removed]",
      "text/plain": [
       "<Figure size 432x324 with 1 Axes>"
      ]
     },
     "metadata": {
      "needs_background": "light"
     },
     "output_type": "display_data"
    }
   ],
   "source": [
    "pretty_labels = ('Curb Ramp', 'Missing Ramp', 'Sfc Problem', 'Obstruction', 'Null', \"Overall\")\n",
    "ugly_labels   = ('ramp', 'missing_ramp', 'sfc_problem', 'obstruction', 'null', \"Overall\")\n",
    "\n",
    "label_colors = (('Curb Ramp', 'C2'), ('Missing Ramp', 'C3'), ('Obstruction','C0'), ('Sfc Problem','C1'), ('Null','C4'))\n",
    "\n",
    "plt.figure(figsize=(6,4.5))\n",
    "\n",
    "p_xs     = []\n",
    "r_xs = []\n",
    "p_heights= []\n",
    "r_heights = []\n",
    "p_widths = len(label_colors) * [-.3]\n",
    "r_widths = len(label_colors) * [.3]\n",
    "colors = []\n",
    "\n",
    "for i, (label, color) in enumerate(label_colors):\n",
    "    ugly_label = ugly_labels[pretty_labels.index(label)]\n",
    "    \n",
    "    p = pr[ugly_label]\n",
    "    r = rc[ugly_label]\n",
    "    \n",
    "    colors += [color]\n",
    "    p_heights.append(p)\n",
    "    r_heights.append(r)\n",
    "    p_xs.append(i-.1)\n",
    "    r_xs.append(i)\n",
    "        \n",
    "plt.bar(p_xs, p_heights, tick_label=None, align='edge', width=p_widths, color=colors, hatch='', ec='white')\n",
    "plt.bar(r_xs, r_heights, tick_label=None, align='edge', width=r_widths, color=colors, hatch='', ec='white', alpha=.7)\n",
    "plt.bar(np.array(range(len(label_colors)))-.05, len(label_colors)*[0], tick_label = zip(*label_colors)[0], align='center')\n",
    "\n",
    "for x in range(len(label_colors)):\n",
    "    plt.text(x-.32, 22, \"Precision\", rotation='vertical', color=\"white\", fontsize=11)\n",
    "    plt.text(x+.09, 15, \"Recall\", rotation='vertical', color=\"white\", fontsize=11)\n",
    "    \n",
    "for xs, heights, offset in ((p_xs, p_heights, -.25), (r_xs, r_heights, .05)):\n",
    "    for x, h in zip(xs, heights):\n",
    "        plt.text(x+offset, h+0, \"{:2.0f}\".format(h), fontsize=12)\n",
    "        \n",
    "plt.xticks(rotation=10)\n",
    "\n",
    "plt.ylabel(\"Percent Precision and Recall\")\n",
    "plt.savefig('/Users/galenweld/sidewalk-cv-assets19/figures_for_paper/pngs/pr_bar.png', dpi = 300)\n",
    "plt.show()"
   ]
  },
  {
   "cell_type": "code",
   "execution_count": null,
   "metadata": {},
   "outputs": [],
   "source": []
  }
 ],
 "metadata": {
  "kernelspec": {
   "display_name": "Python 2",
   "language": "python",
   "name": "python2"
  },
  "language_info": {
   "codemirror_mode": {
    "name": "ipython",
    "version": 2
   },
   "file_extension": ".py",
   "mimetype": "text/x-python",
   "name": "python",
   "nbconvert_exporter": "python",
   "pygments_lexer": "ipython2",
   "version": "2.7.15"
  }
 },
 "nbformat": 4,
 "nbformat_minor": 2
}
