{
 "cells": [
  {
   "cell_type": "code",
   "execution_count": 15,
   "metadata": {},
   "outputs": [],
   "source": [
    "import os\n",
    "import shutil\n",
    "import random\n",
    "from collections import defaultdict"
   ]
  },
  {
   "cell_type": "code",
   "execution_count": 19,
   "metadata": {},
   "outputs": [],
   "source": [
    "path_to_all_crops = '/Volumes/Extreme SSD/seattle_center_crops_researchers/'"
   ]
  },
  {
   "cell_type": "code",
   "execution_count": 20,
   "metadata": {},
   "outputs": [],
   "source": [
    "path_to_new_ds = '/Volumes/Extreme SSD/seattle_cc_researchers_partitioned/'\n",
    "if not os.path.isdir(path_to_new_ds):\n",
    "    os.mkdir(path_to_new_ds)\n",
    "    os.mkdir(os.path.join(path_to_new_ds, 'train'))\n",
    "    os.mkdir(os.path.join(path_to_new_ds, 'val'))"
   ]
  },
  {
   "cell_type": "code",
   "execution_count": 21,
   "metadata": {},
   "outputs": [
    {
     "name": "stdout",
     "output_type": "stream",
     "text": [
      "null 3899\n",
      "Copied 3107 bases to train and 792 to val.\n",
      "sfc_problem 233\n",
      "Copied 190 bases to train and 43 to val.\n",
      "missing_ramp 237\n",
      "Copied 188 bases to train and 49 to val.\n",
      "obstruction 87\n",
      "Copied 60 bases to train and 27 to val.\n",
      "ramp 416\n",
      "Copied 322 bases to train and 94 to val.\n"
     ]
    }
   ],
   "source": [
    "for label_dir in os.listdir(path_to_all_crops):\n",
    "    bases = set()\n",
    "    for f in os.listdir(os.path.join(path_to_all_crops, label_dir)):\n",
    "        base, _ = os.path.splitext(f)\n",
    "        bases.add(base)\n",
    "    print label_dir, len(bases)\n",
    "    num_partitioned = defaultdict(int)\n",
    "    for base in bases:\n",
    "        src = os.path.join(path_to_all_crops, label_dir, base)\n",
    "        assignment = 'train' if random.random() < .8 else 'val'\n",
    "        num_partitioned[assignment] += 1\n",
    "        \n",
    "        dest = os.path.join(path_to_new_ds, assignment, label_dir)\n",
    "        if not os.path.isdir(dest):\n",
    "            os.mkdir(dest)\n",
    "        dest = os.path.join(dest, base)\n",
    "            \n",
    "        for ext in ('.json', '.jpg'):\n",
    "            shutil.copy(src+ext, dest+ext)\n",
    "    print \"Copied {} bases to train and {} to val.\".format(num_partitioned['train'], num_partitioned['val'])"
   ]
  },
  {
   "cell_type": "code",
   "execution_count": null,
   "metadata": {},
   "outputs": [],
   "source": []
  }
 ],
 "metadata": {
  "kernelspec": {
   "display_name": "Python 2",
   "language": "python",
   "name": "python2"
  },
  "language_info": {
   "codemirror_mode": {
    "name": "ipython",
    "version": 2
   },
   "file_extension": ".py",
   "mimetype": "text/x-python",
   "name": "python",
   "nbconvert_exporter": "python",
   "pygments_lexer": "ipython2",
   "version": "2.7.15"
  }
 },
 "nbformat": 4,
 "nbformat_minor": 2
}
