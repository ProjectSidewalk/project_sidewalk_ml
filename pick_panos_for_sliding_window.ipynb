{
 "cells": [
  {
   "cell_type": "code",
   "execution_count": 1,
   "metadata": {},
   "outputs": [],
   "source": [
    "import numpy as np\n",
    "import csv\n",
    "from collections import defaultdict"
   ]
  },
  {
   "cell_type": "code",
   "execution_count": 2,
   "metadata": {},
   "outputs": [],
   "source": [
    "path_to_test_set = '/mnt/c/Users/gweld/sidewalk/sidewalk_ml/dataset_csvs/Test.csv'"
   ]
  },
  {
   "cell_type": "code",
   "execution_count": 10,
   "metadata": {},
   "outputs": [],
   "source": [
    "label_from_int   = ('Curb Cut', 'Missing Cut', 'Obstruction', 'Sfc Problem')\n"
   ]
  },
  {
   "cell_type": "markdown",
   "metadata": {},
   "source": [
    "# Let's start by counting the most featured panos"
   ]
  },
  {
   "cell_type": "code",
   "execution_count": 4,
   "metadata": {},
   "outputs": [
    {
     "name": "stdout",
     "output_type": "stream",
     "text": [
      "Pano ID,SV_x,SV_y,Label,Photographer Heading,Heading,Label ID\r\n",
      "\n",
      "XThBNNvanx-bDFUjRrIA4w,10900.0,-1400.0,8,64.3727569580078,,\r\n",
      "\n",
      "Dhqga-J7NUY7UhcAuMuD3w,5800.0,-500.0,8,179.092819213867,,\r\n",
      "\n",
      "FL0HBBGZLOEerP8v5YWvKw,10200.0,-700.0,8,184.816650390625,,\r\n",
      "\n",
      "D3CdC-TmKMyFNjvegKmtLQ,11000.0,0.0,8,7.71541023254395,,\r\n",
      "\n",
      "SxQHAjxmP3QY7k4lmpstxA,1200.0,-200.0,8,67.4374313354492,,\r\n",
      "\n",
      "cYwYCUbgZs-aX7-CN5o9qQ,7300.0,-1200.0,8,7.66415643692017,,\r\n",
      "\n",
      "LiCQeD1mIxjaU5Ipf5fabw,11200.0,-1000.0,8,356.232482910156,,\r\n",
      "\n",
      "qxxsnpyY4pJycNPR_pQqgw,4400.0,-800.0,8,17.953426361084,,\r\n",
      "\n",
      "f16ZmQ4GtscVypqf2NEoJg,1500.0,-700.0,8,304.470001220703,,\r\n",
      "\n",
      "dH4pA3ZjGgwes1RJ4aEuUg,9500.0,-1000.0,8,90.7893600463867,,\r\n",
      "\n",
      "0FSHyQVaScQn-y0xJy5ifA,11200.0,-700.0,8,143.284652709961,,\r\n",
      "\n",
      "qeDBPdzUpZRfj6RcsYHXNw,1500.0,-1500.0,8,32.6399116516113,,\r\n",
      "\n",
      "Cq49nKt4kNEgM1nvMRTyAw,7500.0,-400.0,8,0.738292217254639,,\r\n",
      "\n",
      "Euk_5tKFmS8s8lhDSG1M5Q,7000.0,-1300.0,8,213.603622436523,,\r\n",
      "\n",
      "LpUW0-Yew1-blBUQU2TVKA,4600.0,-1600.0,8,315.663513183594,,\r\n",
      "\n"
     ]
    }
   ],
   "source": [
    "with open(path_to_test_set) as testfile:\n",
    "    c = 0\n",
    "    for line in testfile:\n",
    "        print line\n",
    "        c += 1\n",
    "        if c> 15:\n",
    "            break"
   ]
  },
  {
   "cell_type": "code",
   "execution_count": 9,
   "metadata": {},
   "outputs": [
    {
     "name": "stdout",
     "output_type": "stream",
     "text": [
      "Skipping header row: invalid literal for int() with base 10: 'Label'\n",
      "Counted 5736 panos\n"
     ]
    }
   ],
   "source": [
    "counts_feats_per_pano = defaultdict(int)\n",
    "count_feat_types      = defaultdict(int)\n",
    "\n",
    "with open(path_to_test_set) as testfile:\n",
    "    reader = csv.reader(testfile)\n",
    "    for row in reader:\n",
    "        try:\n",
    "            pano_id = row[0]\n",
    "            label   = int(row[3])\n",
    "            \n",
    "            if label != 8:\n",
    "                counts_feats_per_pano[pano_id] += 1\n",
    "                count_feat_types[label]        += 1\n",
    "        except ValueError as e:\n",
    "            print \"Skipping header row: \" + str(e)\n",
    "            \n",
    "print \"Counted {} panos\".format(len(counts_feats_per_pano))"
   ]
  },
  {
   "cell_type": "code",
   "execution_count": 13,
   "metadata": {},
   "outputs": [
    {
     "name": "stdout",
     "output_type": "stream",
     "text": [
      "Label Type     Count\n",
      "Curb Cut       19451\n",
      "Missing Cut    2616\n",
      "Obstruction    3314\n",
      "Sfc Problem    1288\n"
     ]
    }
   ],
   "source": [
    "print \"{:<15}{}\".format(\"Label Type\", \"Count\")\n",
    "for label, count in count_feat_types.iteritems():\n",
    "    label = label_from_int[label-1]\n",
    "    print \"{:<15}{}\".format(label, count)"
   ]
  },
  {
   "cell_type": "markdown",
   "metadata": {},
   "source": [
    "# Now we'll get the most featured panos\n",
    "Start by counting only panos with more than 2 feats"
   ]
  },
  {
   "cell_type": "code",
   "execution_count": 16,
   "metadata": {},
   "outputs": [],
   "source": [
    "pano_feat_counts = [(pano, count) for pano, count in  counts_feats_per_pano.items() if count > 2]"
   ]
  },
  {
   "cell_type": "code",
   "execution_count": 17,
   "metadata": {},
   "outputs": [
    {
     "data": {
      "text/plain": [
       "3339"
      ]
     },
     "execution_count": 17,
     "metadata": {},
     "output_type": "execute_result"
    }
   ],
   "source": [
    "len(pano_feat_counts)"
   ]
  },
  {
   "cell_type": "code",
   "execution_count": 20,
   "metadata": {},
   "outputs": [],
   "source": [
    "pano_feat_counts = sorted(pano_feat_counts, key=lambda x: x[1], reverse=True)"
   ]
  },
  {
   "cell_type": "code",
   "execution_count": 21,
   "metadata": {},
   "outputs": [
    {
     "name": "stdout",
     "output_type": "stream",
     "text": [
      "Pano                     Num Feats\n",
      "FuAR5U4N37LPhCrVvMHSvw   51\n",
      "Lhg2EP8ncy2mNgUHKpAXHQ   38\n",
      "r8xV9uj450_G6sqwhV7zdA   37\n",
      "DPzwfoyOpNV6_B6NWExt8w   36\n",
      "TvU-O_nTaDl2EuvndNoCsg   32\n",
      "6UjXUF1FhQlq4V4Gibta_A   31\n",
      "mHs0aBuNwIMTDkqWP-YAEA   31\n",
      "e_vboEbm4ucrMBV8Ptn7mA   31\n",
      "kLmJ0ybpt6X5lnh3FKT7ig   29\n",
      "mKJEu0QTrWbd__u-2EQRrw   29\n",
      "qYNYK5fOt0K1HVfWJofeiQ   29\n",
      "PQVKhjyL-KSR_IV5ZGncyg   29\n",
      "QYnXof6BgLa-CuLtFj4bGQ   28\n",
      "0Omi83SbAgOC6seLzT0WHw   28\n",
      "f_msPcvKGEbMv_50QjVrrg   28\n"
     ]
    }
   ],
   "source": [
    "print \"{:<25}{}\".format(\"Pano\", \"Num Feats\")\n",
    "for pano, count in pano_feat_counts[:15]:\n",
    "    print \"{:<25}{}\".format(pano, count) "
   ]
  },
  {
   "cell_type": "code",
   "execution_count": null,
   "metadata": {},
   "outputs": [],
   "source": []
  }
 ],
 "metadata": {
  "kernelspec": {
   "display_name": "Python 2",
   "language": "python",
   "name": "python2"
  },
  "language_info": {
   "codemirror_mode": {
    "name": "ipython",
    "version": 2
   },
   "file_extension": ".py",
   "mimetype": "text/x-python",
   "name": "python",
   "nbconvert_exporter": "python",
   "pygments_lexer": "ipython2",
   "version": "2.7.15"
  }
 },
 "nbformat": 4,
 "nbformat_minor": 2
}
