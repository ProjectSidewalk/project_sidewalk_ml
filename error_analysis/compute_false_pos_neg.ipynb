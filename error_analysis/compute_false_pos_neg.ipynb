{
 "cells": [
  {
   "cell_type": "markdown",
   "metadata": {},
   "source": [
    "# Compute False Positives and Negatives for Each Label Type\n",
    "\n",
    "This should help with error analysis\n",
    "\n",
    "We take as input the .csv exported from the save_classifications.py file"
   ]
  },
  {
   "cell_type": "code",
   "execution_count": 1,
   "metadata": {},
   "outputs": [],
   "source": [
    "import os\n",
    "import csv\n",
    "from collections import defaultdict\n",
    "import random\n",
    "import matplotlib.pyplot as plt\n",
    "import shutil\n",
    "import numpy as np\n",
    "\n",
    "from sklearn.metrics import confusion_matrix\n",
    "from sklearn.utils.multiclass import unique_labels"
   ]
  },
  {
   "cell_type": "code",
   "execution_count": 2,
   "metadata": {},
   "outputs": [],
   "source": [
    "num_to_sample = 75"
   ]
  },
  {
   "cell_type": "code",
   "execution_count": 6,
   "metadata": {},
   "outputs": [],
   "source": [
    "predictions_csv = '20ep_new_old_re18_2.csv' # using ground truth\n",
    "\n",
    "dataset_path = '/mnt/g/ground_truth_cc_dataset'\n",
    "\n",
    "output_path = 'output_true'\n",
    "if not os.path.isdir(output_path):\n",
    "    os.mkdir(output_path)"
   ]
  },
  {
   "cell_type": "code",
   "execution_count": 7,
   "metadata": {},
   "outputs": [],
   "source": [
    "false_pos = defaultdict(set)\n",
    "# these are things that shouldn't have been labeled as [label] but were\n",
    "\n",
    "false_neg = defaultdict(set)\n",
    "# these are things that should have been labeled as [label] but weren't\n",
    "\n",
    "true_pos = defaultdict(set)\n",
    "# correct!"
   ]
  },
  {
   "cell_type": "code",
   "execution_count": 8,
   "metadata": {},
   "outputs": [
    {
     "name": "stdout",
     "output_type": "stream",
     "text": [
      "Counted 20461 items, 89.99% correct.\n",
      "\n",
      "Label           #FP   #FN  \n",
      "sfc_problem     171   356  \n",
      "null            115   85   \n",
      "missing_ramp    368   742  \n",
      "ramp            1037  464  \n",
      "obstruction     357   401  \n"
     ]
    }
   ],
   "source": [
    "with open(predictions_csv) as f:\n",
    "    reader = csv.DictReader(f)\n",
    "    num_items = 0\n",
    "    num_wrong = 0\n",
    "    for item in reader:\n",
    "        num_items += 1\n",
    "        actual    = item['Actual']\n",
    "        predicted = item['Predicted']\n",
    "        \n",
    "        if actual != predicted:\n",
    "            num_wrong += 1\n",
    "            false_pos[predicted].add(item['File'])\n",
    "            false_neg[actual   ].add(item['File'])\n",
    "        \n",
    "        else:\n",
    "            true_pos[actual].add(item['File'])\n",
    "            \n",
    "print \"Counted {} items, {:5.2f}% correct.\".format(num_items, 100*(float(num_items - num_wrong)/num_items))\n",
    "print \"\"\n",
    "print \"{:<15} {:<5} {:<5}\".format(\"Label\", \"#FP\", \"#FN\")\n",
    "for label, fp in false_pos.items():\n",
    "    fn = false_neg[label]\n",
    "    print \"{:<15} {:<5} {:<5}\".format(label, len(fp), len(fn))"
   ]
  },
  {
   "cell_type": "code",
   "execution_count": 12,
   "metadata": {},
   "outputs": [],
   "source": [
    "# premade example here https://scikit-learn.org/stable/auto_examples/model_selection/plot_confusion_matrix.html\n",
    "\n",
    "def plot_confusion_matrix(y_true, y_pred, classes,\n",
    "                          normalize=False,\n",
    "                          title=None,\n",
    "                          cmap=plt.cm.Blues, cbar=False, figsize=(7,7)):\n",
    "    \"\"\"\n",
    "    This function prints and plots the confusion matrix.\n",
    "    Normalization can be applied by setting `normalize=True`.\n",
    "    \"\"\"\n",
    "    if not title:\n",
    "        if normalize:\n",
    "            title = 'Normalized confusion matrix'\n",
    "        else:\n",
    "            title = 'Confusion matrix, without normalization'\n",
    "\n",
    "    # Compute confusion matrix\n",
    "    cm = confusion_matrix(y_true, y_pred)\n",
    "    # Only use the labels that appear in the data\n",
    "    classes = classes[unique_labels(y_true, y_pred)]\n",
    "    if normalize:\n",
    "        cm = cm.astype('float') / cm.sum(axis=1)[:, np.newaxis]\n",
    "        print(\"Normalized confusion matrix\")\n",
    "    else:\n",
    "        print('Confusion matrix, without normalization')\n",
    "\n",
    "    print(cm)\n",
    "\n",
    "    fig, ax = plt.subplots()\n",
    "    im = ax.imshow(cm, interpolation='nearest', cmap=cmap)\n",
    "    if cbar: ax.figure.colorbar(im, ax=ax)\n",
    "    # We want to show all ticks...\n",
    "    ax.set(xticks=np.arange(cm.shape[1]),\n",
    "           yticks=np.arange(cm.shape[0]),\n",
    "           # ... and label them with the respective list entries\n",
    "           xticklabels=classes, yticklabels=classes,\n",
    "           title=title,\n",
    "           ylabel='True label',\n",
    "           xlabel='Predicted label')\n",
    "\n",
    "    # Rotate the tick labels and set their alignment.\n",
    "    plt.setp(ax.get_xticklabels(), rotation=45, ha=\"right\",\n",
    "             rotation_mode=\"anchor\")\n",
    "\n",
    "    # Loop over data dimensions and create text annotations.\n",
    "    fmt = '.2f' if normalize else 'd'\n",
    "    thresh = cm.max() / 2.\n",
    "    for i in range(cm.shape[0]):\n",
    "        for j in range(cm.shape[1]):\n",
    "            ax.text(j, i, format(cm[i, j], fmt),\n",
    "                    ha=\"center\", va=\"center\",\n",
    "                    color=\"white\" if cm[i, j] > thresh else \"black\")\n",
    "    fig.set_size_inches(figsize)\n",
    "    fig.tight_layout()\n",
    "    return ax"
   ]
  },
  {
   "cell_type": "code",
   "execution_count": 13,
   "metadata": {},
   "outputs": [],
   "source": [
    "pretty_labels = ('Ramp', 'Missing Ramp', 'Sfc Problem', 'Obstruction', 'Null')\n",
    "ugly_labels   = ('ramp', 'missing_ramp', 'sfc_problem', 'obstruction', 'null')\n",
    "\n",
    "y_true = []\n",
    "y_pred = []\n",
    "\n",
    "with open(predictions_csv) as f:\n",
    "    reader = csv.DictReader(f)\n",
    "    num_items = 0\n",
    "    for item in reader:\n",
    "        num_items += 1\n",
    "        actual    = ugly_labels.index(item['Actual'])\n",
    "        predicted = ugly_labels.index(item['Predicted'])\n",
    "        \n",
    "        y_true.append(actual)\n",
    "        y_pred.append(predicted)"
   ]
  },
  {
   "cell_type": "code",
   "execution_count": 17,
   "metadata": {},
   "outputs": [
    {
     "name": "stdout",
     "output_type": "stream",
     "text": [
      "Normalized confusion matrix\n",
      "[[0.96829518 0.01298258 0.00430475 0.01072771 0.00368978]\n",
      " [0.28991384 0.62392296 0.02432843 0.05068424 0.01115053]\n",
      " [0.20728929 0.08883827 0.59453303 0.09339408 0.01594533]\n",
      " [0.1146789  0.03440367 0.0233945  0.81605505 0.01146789]\n",
      " [0.04150943 0.03144654 0.01132075 0.02264151 0.89308176]]\n"
     ]
    },
    {
     "data": {
      "image/png": "[encoded data removed]",
      "text/plain": [
       "<Figure size 360x576 with 1 Axes>"
      ]
     },
     "metadata": {
      "needs_background": "light"
     },
     "output_type": "display_data"
    }
   ],
   "source": [
    "plot_confusion_matrix(y_true, y_pred, np.array(pretty_labels), normalize=True,title=\"Validation Model Performance - Confusion Matrix\",cmap=plt.cm.Blues, figsize=(5,8))\n",
    "plt.show()"
   ]
  },
  {
   "cell_type": "code",
   "execution_count": null,
   "metadata": {},
   "outputs": [],
   "source": []
  },
  {
   "cell_type": "markdown",
   "metadata": {},
   "source": [
    "# copy predictions to directories"
   ]
  },
  {
   "cell_type": "code",
   "execution_count": 22,
   "metadata": {},
   "outputs": [],
   "source": [
    "#for kind, d in (('false_pos', false_pos), ('false_neg', false_neg), ('true_pos', true_pos)):\n",
    "for kind, d in (('true_pos', true_pos),):\n",
    "\n",
    "    if not os.path.isdir( os.path.join(output_path, kind) ):\n",
    "        os.mkdir( os.path.join(output_path, kind) )\n",
    "    \n",
    "    for label, paths in d.items():\n",
    "        if len(paths) > num_to_sample:\n",
    "            sample = random.sample(paths, num_to_sample)\n",
    "        else: sample = paths\n",
    "        for shortpath in sample:\n",
    "            completepath = os.path.join(dataset_path, shortpath)\n",
    "            _, filename = os.path.split(shortpath)\n",
    "            destdir = os.path.join(output_path, kind, label)\n",
    "            if not os.path.isdir(destdir):\n",
    "                os.mkdir(destdir)\n",
    "            destpath = os.path.join(destdir, filename)\n",
    "            shutil.copy(completepath, destpath)"
   ]
  },
  {
   "cell_type": "code",
   "execution_count": null,
   "metadata": {},
   "outputs": [],
   "source": []
  }
 ],
 "metadata": {
  "kernelspec": {
   "display_name": "Python 2",
   "language": "python",
   "name": "python2"
  },
  "language_info": {
   "codemirror_mode": {
    "name": "ipython",
    "version": 2
   },
   "file_extension": ".py",
   "mimetype": "text/x-python",
   "name": "python",
   "nbconvert_exporter": "python",
   "pygments_lexer": "ipython2",
   "version": "2.7.15"
  }
 },
 "nbformat": 4,
 "nbformat_minor": 2
}
