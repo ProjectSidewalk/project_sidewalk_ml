{
 "cells": [
  {
   "cell_type": "code",
   "execution_count": 9,
   "metadata": {},
   "outputs": [],
   "source": [
    "from heatmap_depths import depth_generator\n",
    "from collections import defaultdict\n",
    "import matplotlib.pyplot as plt"
   ]
  },
  {
   "cell_type": "code",
   "execution_count": 10,
   "metadata": {},
   "outputs": [],
   "source": [
    "depths = defaultdict(set)"
   ]
  },
  {
   "cell_type": "code",
   "execution_count": 11,
   "metadata": {},
   "outputs": [
    {
     "name": "stdout",
     "output_type": "stream",
     "text": [
      "Invalid XML data, skipping 1s7X6RZIsQoK2TL-JfW2-A\n",
      "Invalid XML data, skipping 2sJ-4vRGnhH9u_dwytG83Q\n",
      "Invalid XML data, skipping 2sJ-4vRGnhH9u_dwytG83Q\n",
      "Invalid XML data, skipping xqTCcZ4Os7e_Jd-5KwI3lA\n",
      "Invalid XML data, skipping xqTCcZ4Os7e_Jd-5KwI3lA\n",
      "Invalid XML data, skipping tFTgecedrwOmn3V0OGJ_yg\n",
      "Invalid XML data, skipping tFTgecedrwOmn3V0OGJ_yg\n",
      "Invalid XML data, skipping tFTgecedrwOmn3V0OGJ_yg\n",
      "Invalid XML data, skipping tFTgecedrwOmn3V0OGJ_yg\n",
      "Invalid XML data, skipping GeLi9dKvMnQipH5SjtG8kg\n",
      "Invalid XML data, skipping GeLi9dKvMnQipH5SjtG8kg\n",
      "Invalid XML data, skipping t03f0sv1u_CZS3GRYoTmxw\n",
      "Invalid XML data, skipping v-6g84Q27EKlvhxaIvpwZw\n",
      "Invalid XML data, skipping v-6g84Q27EKlvhxaIvpwZw\n",
      "Invalid XML data, skipping yrakRZULiTGhMTNnld49IA\n",
      "Invalid XML data, skipping yrakRZULiTGhMTNnld49IA\n",
      "Invalid XML data, skipping pumNDNPpo-zSxNfjP4kS_Q\n",
      "Invalid XML data, skipping i1SNCSyqHOa9nwtGs9M9Cw\n",
      "Invalid XML data, skipping i1SNCSyqHOa9nwtGs9M9Cw\n",
      "Invalid XML data, skipping i1SNCSyqHOa9nwtGs9M9Cw\n",
      "Invalid XML data, skipping i1SNCSyqHOa9nwtGs9M9Cw\n",
      "Invalid XML data, skipping i1SNCSyqHOa9nwtGs9M9Cw\n",
      "Invalid XML data, skipping wGkRcTJv6S7ky4b_PYaPeA\n",
      "Invalid XML data, skipping wGkRcTJv6S7ky4b_PYaPeA\n",
      "Invalid XML data, skipping wGkRcTJv6S7ky4b_PYaPeA\n",
      "Invalid XML data, skipping sUgdblz10j9KcWOeszp44w\n",
      "Invalid XML data, skipping sUgdblz10j9KcWOeszp44w\n",
      "Invalid XML data, skipping sUgdblz10j9KcWOeszp44w\n",
      "Invalid XML data, skipping 37J2fZOIfQ0Oi8H7k_jhSA\n",
      "Invalid XML data, skipping 37J2fZOIfQ0Oi8H7k_jhSA\n",
      "Invalid XML data, skipping 4s1k-KZNhXoskiN4rEPsTw\n",
      "Invalid XML data, skipping aiYyaJdLrPBi4ey4Ez9v1Q\n",
      "Invalid XML data, skipping aiYyaJdLrPBi4ey4Ez9v1Q\n",
      "Invalid XML data, skipping aiYyaJdLrPBi4ey4Ez9v1Q\n",
      "Invalid XML data, skipping aiYyaJdLrPBi4ey4Ez9v1Q\n",
      "Invalid XML data, skipping _QDWAWKclrENPh-EqrpaFg\n",
      "Invalid XML data, skipping _QDWAWKclrENPh-EqrpaFg\n",
      "Invalid XML data, skipping _QDWAWKclrENPh-EqrpaFg\n",
      "Invalid XML data, skipping _QDWAWKclrENPh-EqrpaFg\n",
      "Invalid XML data, skipping PCmgIOUZ0reRH6bVJd5FtQ\n",
      "Invalid XML data, skipping PCmgIOUZ0reRH6bVJd5FtQ\n",
      "Invalid XML data, skipping _xA8bueP4ip4SQJosSfcjQ\n",
      "Invalid XML data, skipping RBX6W9kFUo3GxaMeSnm4Ow\n",
      "Invalid XML data, skipping RBX6W9kFUo3GxaMeSnm4Ow\n",
      "Invalid XML data, skipping iEEsl-9gG6lYhUkcgCBqNA\n",
      "Invalid XML data, skipping iEEsl-9gG6lYhUkcgCBqNA\n",
      "Invalid XML data, skipping 73Vf-U8XlJkBUuF5_3MDiw\n",
      "Invalid XML data, skipping 2SRBbrynOGbpokIOd-lHvQ\n",
      "Invalid XML data, skipping 2SRBbrynOGbpokIOd-lHvQ\n",
      "Invalid XML data, skipping caRYYYaZaX3anza75r6J1w\n",
      "Invalid XML data, skipping caRYYYaZaX3anza75r6J1w\n",
      "Invalid XML data, skipping h8mKhwJjHQl6B5FTwqQDVg\n",
      "Invalid XML data, skipping Uco1ICo4lsmwTIWWzBAqMg\n",
      "Invalid XML data, skipping Uco1ICo4lsmwTIWWzBAqMg\n",
      "Invalid XML data, skipping PK1d3Rj3upvykcJslUdS-g\n",
      "Invalid XML data, skipping PK1d3Rj3upvykcJslUdS-g\n",
      "Invalid XML data, skipping PK1d3Rj3upvykcJslUdS-g\n",
      "Invalid XML data, skipping PK1d3Rj3upvykcJslUdS-g\n",
      "Invalid XML data, skipping PK1d3Rj3upvykcJslUdS-g\n",
      "Invalid XML data, skipping PK1d3Rj3upvykcJslUdS-g\n",
      "Invalid XML data, skipping PK1d3Rj3upvykcJslUdS-g\n",
      "Invalid XML data, skipping ky2DnQAZYGnLhTuNJpzmTA\n",
      "Invalid XML data, skipping ky2DnQAZYGnLhTuNJpzmTA\n",
      "Invalid XML data, skipping e8YTVsXQVAOQRqpoOSIEQA\n",
      "Invalid XML data, skipping e8YTVsXQVAOQRqpoOSIEQA\n",
      "Invalid XML data, skipping e8YTVsXQVAOQRqpoOSIEQA\n",
      "Invalid XML data, skipping e8YTVsXQVAOQRqpoOSIEQA\n",
      "Invalid XML data, skipping e8YTVsXQVAOQRqpoOSIEQA\n",
      "Invalid XML data, skipping e8YTVsXQVAOQRqpoOSIEQA\n",
      "Invalid XML data, skipping RBX6W9kFUo3GxaMeSnm4Ow\n",
      "Invalid XML data, skipping RBX6W9kFUo3GxaMeSnm4Ow\n",
      "Invalid XML data, skipping RBX6W9kFUo3GxaMeSnm4Ow\n",
      "Invalid XML data, skipping RBX6W9kFUo3GxaMeSnm4Ow\n",
      "Invalid XML data, skipping RBX6W9kFUo3GxaMeSnm4Ow\n",
      "Invalid XML data, skipping RBX6W9kFUo3GxaMeSnm4Ow\n",
      "Invalid XML data, skipping Ltzx4syJuO3cRvuJyj745w\n",
      "Invalid XML data, skipping Ltzx4syJuO3cRvuJyj745w\n",
      "Skipping MivqizMRH3pMZXZg35aMHA due to missing XML data\n",
      "Skipping MivqizMRH3pMZXZg35aMHA due to missing XML data\n",
      "Invalid XML data, skipping aRaHUeTHMtaqyI8QeDJ30w\n",
      "Invalid XML data, skipping aRaHUeTHMtaqyI8QeDJ30w\n",
      "Invalid XML data, skipping aRaHUeTHMtaqyI8QeDJ30w\n",
      "Invalid XML data, skipping aRaHUeTHMtaqyI8QeDJ30w\n",
      "Invalid XML data, skipping aaHdX7t-AIKmivgq3I-qEg\n",
      "Invalid XML data, skipping QhrpFELlLDmPIalcyDtz0A\n",
      "Invalid XML data, skipping QhrpFELlLDmPIalcyDtz0A\n",
      "Invalid XML data, skipping FMua4pecukm_RRuaNXdBcQ\n",
      "Invalid XML data, skipping FMua4pecukm_RRuaNXdBcQ\n",
      "Invalid XML data, skipping FMua4pecukm_RRuaNXdBcQ\n",
      "Invalid XML data, skipping lYmJcq1s4xgVO9M_QxShLQ\n",
      "Invalid XML data, skipping lYmJcq1s4xgVO9M_QxShLQ\n",
      "Invalid XML data, skipping lYmJcq1s4xgVO9M_QxShLQ\n",
      "Invalid XML data, skipping lYmJcq1s4xgVO9M_QxShLQ\n",
      "Invalid XML data, skipping DtV-HVRtYre34TXkxef31g\n",
      "Invalid XML data, skipping FX479axOmHmi7bzz-3lYZA\n",
      "Invalid XML data, skipping 17v35cu5B7vZbCdlVWDuJQ\n"
     ]
    },
    {
     "ename": "IndexError",
     "evalue": "index 512 is out of bounds for axis 1 with size 512",
     "output_type": "error",
     "traceback": [
      "\u001b[0;31m---------------------------------------------------------------------------\u001b[0m",
      "\u001b[0;31mIndexError\u001b[0m                                Traceback (most recent call last)",
      "\u001b[0;32m<ipython-input-11-6b424539683e>\u001b[0m in \u001b[0;36m<module>\u001b[0;34m()\u001b[0m\n\u001b[0;32m----> 1\u001b[0;31m \u001b[0;32mfor\u001b[0m \u001b[0mname\u001b[0m\u001b[0;34m,\u001b[0m \u001b[0mdepth\u001b[0m \u001b[0;32min\u001b[0m \u001b[0mdepth_generator\u001b[0m\u001b[0;34m(\u001b[0m\u001b[0;34m)\u001b[0m\u001b[0;34m:\u001b[0m\u001b[0;34m\u001b[0m\u001b[0m\n\u001b[0m\u001b[1;32m      2\u001b[0m     \u001b[0mdepths\u001b[0m\u001b[0;34m[\u001b[0m\u001b[0mname\u001b[0m\u001b[0;34m]\u001b[0m\u001b[0;34m.\u001b[0m\u001b[0madd\u001b[0m\u001b[0;34m(\u001b[0m\u001b[0mdepth\u001b[0m\u001b[0;34m)\u001b[0m\u001b[0;34m\u001b[0m\u001b[0m\n",
      "\u001b[0;32m/mnt/c/Users/gweld/sidewalk/sidewalk_ml/heatmap_depths.py\u001b[0m in \u001b[0;36mdepth_generator\u001b[0;34m()\u001b[0m\n\u001b[1;32m    163\u001b[0m                                 \u001b[0;32mprint\u001b[0m \u001b[0;34m\"Error interpolating depth data for {}, skipping.\"\u001b[0m\u001b[0;34m.\u001b[0m\u001b[0mformat\u001b[0m\u001b[0;34m(\u001b[0m\u001b[0mpano_id\u001b[0m\u001b[0;34m)\u001b[0m\u001b[0;34m\u001b[0m\u001b[0m\n\u001b[1;32m    164\u001b[0m                         \u001b[0;31m#print label_name, d\u001b[0m\u001b[0;34m\u001b[0m\u001b[0;34m\u001b[0m\u001b[0m\n\u001b[0;32m--> 165\u001b[0;31m \u001b[0;34m\u001b[0m\u001b[0m\n\u001b[0m\u001b[1;32m    166\u001b[0m                         \u001b[0;32myield\u001b[0m \u001b[0mlabel_name\u001b[0m\u001b[0;34m,\u001b[0m \u001b[0md\u001b[0m\u001b[0;34m\u001b[0m\u001b[0m\n\u001b[1;32m    167\u001b[0m \u001b[0;34m\u001b[0m\u001b[0m\n",
      "\u001b[0;32m/mnt/c/Users/gweld/sidewalk/sidewalk_ml/heatmap_depths.py\u001b[0m in \u001b[0;36mdepth\u001b[0;34m(path_to_image, sv_image_x, sv_image_y, pano_yaw_deg, path_to_depth)\u001b[0m\n\u001b[1;32m    119\u001b[0m         \u001b[0mdepth_z\u001b[0m \u001b[0;34m=\u001b[0m \u001b[0mdepth\u001b[0m\u001b[0;34m[\u001b[0m\u001b[0;34m:\u001b[0m\u001b[0;34m,\u001b[0m \u001b[0;36m2\u001b[0m\u001b[0;34m:\u001b[0m\u001b[0;34m:\u001b[0m\u001b[0;36m3\u001b[0m\u001b[0;34m]\u001b[0m\u001b[0;34m\u001b[0m\u001b[0m\n\u001b[1;32m    120\u001b[0m \u001b[0;34m\u001b[0m\u001b[0m\n\u001b[0;32m--> 121\u001b[0;31m         \u001b[0mval_x\u001b[0m\u001b[0;34m,\u001b[0m \u001b[0mval_y\u001b[0m\u001b[0;34m,\u001b[0m \u001b[0mval_z\u001b[0m \u001b[0;34m=\u001b[0m \u001b[0minterpolated_3d_point\u001b[0m\u001b[0;34m(\u001b[0m\u001b[0mx\u001b[0m\u001b[0;34m,\u001b[0m \u001b[0my\u001b[0m\u001b[0;34m,\u001b[0m \u001b[0mdepth_x\u001b[0m\u001b[0;34m,\u001b[0m \u001b[0mdepth_y\u001b[0m\u001b[0;34m,\u001b[0m \u001b[0mdepth_z\u001b[0m\u001b[0;34m)\u001b[0m\u001b[0;34m\u001b[0m\u001b[0m\n\u001b[0m\u001b[1;32m    122\u001b[0m \u001b[0;34m\u001b[0m\u001b[0m\n\u001b[1;32m    123\u001b[0m         \u001b[0mdistance\u001b[0m \u001b[0;34m=\u001b[0m \u001b[0mmath\u001b[0m\u001b[0;34m.\u001b[0m\u001b[0msqrt\u001b[0m\u001b[0;34m(\u001b[0m\u001b[0mval_x\u001b[0m \u001b[0;34m**\u001b[0m \u001b[0;36m2\u001b[0m \u001b[0;34m+\u001b[0m \u001b[0mval_y\u001b[0m \u001b[0;34m**\u001b[0m \u001b[0;36m2\u001b[0m \u001b[0;34m+\u001b[0m \u001b[0mval_z\u001b[0m \u001b[0;34m**\u001b[0m \u001b[0;36m2\u001b[0m\u001b[0;34m)\u001b[0m\u001b[0;34m\u001b[0m\u001b[0m\n",
      "\u001b[0;32m/mnt/c/Users/gweld/sidewalk/sidewalk_ml/heatmap_depths.py\u001b[0m in \u001b[0;36minterpolated_3d_point\u001b[0;34m(xi, yi, x_3d, y_3d, z_3d, scale)\u001b[0m\n\u001b[1;32m     98\u001b[0m                 \u001b[0mval_z\u001b[0m \u001b[0;34m=\u001b[0m \u001b[0mz_3d\u001b[0m\u001b[0;34m[\u001b[0m\u001b[0myi1\u001b[0m\u001b[0;34m,\u001b[0m \u001b[0mxi1\u001b[0m\u001b[0;34m]\u001b[0m\u001b[0;34m\u001b[0m\u001b[0m\n\u001b[1;32m     99\u001b[0m         \u001b[0;32melse\u001b[0m\u001b[0;34m:\u001b[0m\u001b[0;34m\u001b[0m\u001b[0m\n\u001b[0;32m--> 100\u001b[0;31m                 \u001b[0mpoints_x\u001b[0m \u001b[0;34m=\u001b[0m \u001b[0;34m(\u001b[0m\u001b[0;34m(\u001b[0m\u001b[0mxi1\u001b[0m\u001b[0;34m,\u001b[0m \u001b[0myi1\u001b[0m\u001b[0;34m,\u001b[0m \u001b[0mx_3d\u001b[0m\u001b[0;34m[\u001b[0m\u001b[0myi1\u001b[0m\u001b[0;34m,\u001b[0m \u001b[0mxi1\u001b[0m\u001b[0;34m]\u001b[0m\u001b[0;34m)\u001b[0m\u001b[0;34m,\u001b[0m   \u001b[0;34m(\u001b[0m\u001b[0mxi1\u001b[0m\u001b[0;34m,\u001b[0m \u001b[0myi2\u001b[0m\u001b[0;34m,\u001b[0m \u001b[0mx_3d\u001b[0m\u001b[0;34m[\u001b[0m\u001b[0myi2\u001b[0m\u001b[0;34m,\u001b[0m \u001b[0mxi1\u001b[0m\u001b[0;34m]\u001b[0m\u001b[0;34m)\u001b[0m\u001b[0;34m,\u001b[0m \u001b[0;34m(\u001b[0m\u001b[0mxi2\u001b[0m\u001b[0;34m,\u001b[0m \u001b[0myi1\u001b[0m\u001b[0;34m,\u001b[0m \u001b[0mx_3d\u001b[0m\u001b[0;34m[\u001b[0m\u001b[0myi1\u001b[0m\u001b[0;34m,\u001b[0m \u001b[0mxi2\u001b[0m\u001b[0;34m]\u001b[0m\u001b[0;34m)\u001b[0m\u001b[0;34m,\u001b[0m \u001b[0;34m(\u001b[0m\u001b[0mxi2\u001b[0m\u001b[0;34m,\u001b[0m \u001b[0myi2\u001b[0m\u001b[0;34m,\u001b[0m \u001b[0mx_3d\u001b[0m\u001b[0;34m[\u001b[0m\u001b[0myi2\u001b[0m\u001b[0;34m,\u001b[0m \u001b[0mxi2\u001b[0m\u001b[0;34m]\u001b[0m\u001b[0;34m)\u001b[0m\u001b[0;34m)\u001b[0m\u001b[0;34m\u001b[0m\u001b[0m\n\u001b[0m\u001b[1;32m    101\u001b[0m                 \u001b[0mpoints_y\u001b[0m \u001b[0;34m=\u001b[0m \u001b[0;34m(\u001b[0m\u001b[0;34m(\u001b[0m\u001b[0mxi1\u001b[0m\u001b[0;34m,\u001b[0m \u001b[0myi1\u001b[0m\u001b[0;34m,\u001b[0m \u001b[0my_3d\u001b[0m\u001b[0;34m[\u001b[0m\u001b[0myi1\u001b[0m\u001b[0;34m,\u001b[0m \u001b[0mxi1\u001b[0m\u001b[0;34m]\u001b[0m\u001b[0;34m)\u001b[0m\u001b[0;34m,\u001b[0m   \u001b[0;34m(\u001b[0m\u001b[0mxi1\u001b[0m\u001b[0;34m,\u001b[0m \u001b[0myi2\u001b[0m\u001b[0;34m,\u001b[0m \u001b[0my_3d\u001b[0m\u001b[0;34m[\u001b[0m\u001b[0myi2\u001b[0m\u001b[0;34m,\u001b[0m \u001b[0mxi1\u001b[0m\u001b[0;34m]\u001b[0m\u001b[0;34m)\u001b[0m\u001b[0;34m,\u001b[0m \u001b[0;34m(\u001b[0m\u001b[0mxi2\u001b[0m\u001b[0;34m,\u001b[0m \u001b[0myi1\u001b[0m\u001b[0;34m,\u001b[0m \u001b[0my_3d\u001b[0m\u001b[0;34m[\u001b[0m\u001b[0myi1\u001b[0m\u001b[0;34m,\u001b[0m \u001b[0mxi2\u001b[0m\u001b[0;34m]\u001b[0m\u001b[0;34m)\u001b[0m\u001b[0;34m,\u001b[0m \u001b[0;34m(\u001b[0m\u001b[0mxi2\u001b[0m\u001b[0;34m,\u001b[0m \u001b[0myi2\u001b[0m\u001b[0;34m,\u001b[0m \u001b[0my_3d\u001b[0m\u001b[0;34m[\u001b[0m\u001b[0myi2\u001b[0m\u001b[0;34m,\u001b[0m \u001b[0mxi2\u001b[0m\u001b[0;34m]\u001b[0m\u001b[0;34m)\u001b[0m\u001b[0;34m)\u001b[0m\u001b[0;34m\u001b[0m\u001b[0m\n\u001b[1;32m    102\u001b[0m                 \u001b[0mpoints_z\u001b[0m \u001b[0;34m=\u001b[0m \u001b[0;34m(\u001b[0m\u001b[0;34m(\u001b[0m\u001b[0mxi1\u001b[0m\u001b[0;34m,\u001b[0m \u001b[0myi1\u001b[0m\u001b[0;34m,\u001b[0m \u001b[0mz_3d\u001b[0m\u001b[0;34m[\u001b[0m\u001b[0myi1\u001b[0m\u001b[0;34m,\u001b[0m \u001b[0mxi1\u001b[0m\u001b[0;34m]\u001b[0m\u001b[0;34m)\u001b[0m\u001b[0;34m,\u001b[0m   \u001b[0;34m(\u001b[0m\u001b[0mxi1\u001b[0m\u001b[0;34m,\u001b[0m \u001b[0myi2\u001b[0m\u001b[0;34m,\u001b[0m \u001b[0mz_3d\u001b[0m\u001b[0;34m[\u001b[0m\u001b[0myi2\u001b[0m\u001b[0;34m,\u001b[0m \u001b[0mxi1\u001b[0m\u001b[0;34m]\u001b[0m\u001b[0;34m)\u001b[0m\u001b[0;34m,\u001b[0m \u001b[0;34m(\u001b[0m\u001b[0mxi2\u001b[0m\u001b[0;34m,\u001b[0m \u001b[0myi1\u001b[0m\u001b[0;34m,\u001b[0m \u001b[0mz_3d\u001b[0m\u001b[0;34m[\u001b[0m\u001b[0myi1\u001b[0m\u001b[0;34m,\u001b[0m \u001b[0mxi2\u001b[0m\u001b[0;34m]\u001b[0m\u001b[0;34m)\u001b[0m\u001b[0;34m,\u001b[0m \u001b[0;34m(\u001b[0m\u001b[0mxi2\u001b[0m\u001b[0;34m,\u001b[0m \u001b[0myi2\u001b[0m\u001b[0;34m,\u001b[0m \u001b[0mz_3d\u001b[0m\u001b[0;34m[\u001b[0m\u001b[0myi2\u001b[0m\u001b[0;34m,\u001b[0m \u001b[0mxi2\u001b[0m\u001b[0;34m]\u001b[0m\u001b[0;34m)\u001b[0m\u001b[0;34m)\u001b[0m\u001b[0;34m\u001b[0m\u001b[0m\n",
      "\u001b[0;31mIndexError\u001b[0m: index 512 is out of bounds for axis 1 with size 512"
     ]
    }
   ],
   "source": [
    "for name, depth in depth_generator():\n",
    "    depths[name].add(depth)"
   ]
  },
  {
   "cell_type": "code",
   "execution_count": null,
   "metadata": {},
   "outputs": [],
   "source": []
  }
 ],
 "metadata": {
  "kernelspec": {
   "display_name": "Python [conda env:sidewalk_gcloud]",
   "language": "python",
   "name": "conda-env-sidewalk_gcloud-py"
  },
  "language_info": {
   "codemirror_mode": {
    "name": "ipython",
    "version": 2
   },
   "file_extension": ".py",
   "mimetype": "text/x-python",
   "name": "python",
   "nbconvert_exporter": "python",
   "pygments_lexer": "ipython2",
   "version": "2.7.15"
  }
 },
 "nbformat": 4,
 "nbformat_minor": 2
}
