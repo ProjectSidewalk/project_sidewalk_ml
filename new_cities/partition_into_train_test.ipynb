{
 "cells": [
  {
   "cell_type": "code",
   "execution_count": 3,
   "metadata": {},
   "outputs": [],
   "source": [
    "import os\n",
    "import shutil\n",
    "import random\n",
    "from collections import defaultdict"
   ]
  },
  {
   "cell_type": "code",
   "execution_count": 9,
   "metadata": {},
   "outputs": [],
   "source": [
    "path_to_all_crops = '/mnt/g/seattle_center_crops_researchers/'"
   ]
  },
  {
   "cell_type": "code",
   "execution_count": 10,
   "metadata": {},
   "outputs": [],
   "source": [
    "path_to_new_ds = '/mnt/g/seattle_cc_researchers_partitioned/'\n",
    "if not os.path.isdir(path_to_new_ds):\n",
    "    os.mkdir(path_to_new_ds)\n",
    "    os.mkdir(os.path.join(path_to_new_ds, 'train'))\n",
    "    os.mkdir(os.path.join(path_to_new_ds, 'test'))"
   ]
  },
  {
   "cell_type": "code",
   "execution_count": 11,
   "metadata": {},
   "outputs": [
    {
     "name": "stdout",
     "output_type": "stream",
     "text": [
      "ramp 1137\n",
      "Copied 902 bases to train and 235 to test.\n",
      "sfc_problem 609\n",
      "Copied 495 bases to train and 114 to test.\n",
      "obstruction 416\n",
      "Copied 326 bases to train and 90 to test.\n",
      "missing_ramp 995\n",
      "Copied 783 bases to train and 212 to test.\n",
      "null 3820\n",
      "Error: [Errno 2] No such file or directory: '/mnt/g/seattle_center_crops_researchers/null/xHap7ypox1h9nQEuqXk4Zgcrop6922.0,-831.0.json'\n",
      "Copied 3098 bases to train and 722 to test.\n"
     ]
    }
   ],
   "source": [
    "for label_dir in os.listdir(path_to_all_crops):\n",
    "    bases = set()\n",
    "    for f in os.listdir(os.path.join(path_to_all_crops, label_dir)):\n",
    "        base, _ = os.path.splitext(f)\n",
    "        bases.add(base)\n",
    "    print label_dir, len(bases)\n",
    "    num_partitioned = defaultdict(int)\n",
    "    for base in bases:\n",
    "        src = os.path.join(path_to_all_crops, label_dir, base)\n",
    "        assignment = 'train' if random.random() < .8 else 'test'\n",
    "        num_partitioned[assignment] += 1\n",
    "        \n",
    "        dest = os.path.join(path_to_new_ds, assignment, label_dir)\n",
    "        if not os.path.isdir(dest):\n",
    "            os.mkdir(dest)\n",
    "        dest = os.path.join(dest, base)\n",
    "            \n",
    "        for ext in ('.json', '.jpg'):\n",
    "            try:\n",
    "                shutil.copy(src+ext, dest+ext)\n",
    "            except IOError as e:\n",
    "                print \"Error: {}\".format(e)\n",
    "    print \"Copied {} bases to train and {} to test.\".format(num_partitioned['train'], num_partitioned['test'])"
   ]
  },
  {
   "cell_type": "code",
   "execution_count": null,
   "metadata": {},
   "outputs": [],
   "source": []
  }
 ],
 "metadata": {
  "kernelspec": {
   "display_name": "Python 2",
   "language": "python",
   "name": "python2"
  },
  "language_info": {
   "codemirror_mode": {
    "name": "ipython",
    "version": 2
   },
   "file_extension": ".py",
   "mimetype": "text/x-python",
   "name": "python",
   "nbconvert_exporter": "python",
   "pygments_lexer": "ipython2",
   "version": "2.7.15"
  }
 },
 "nbformat": 4,
 "nbformat_minor": 2
}
