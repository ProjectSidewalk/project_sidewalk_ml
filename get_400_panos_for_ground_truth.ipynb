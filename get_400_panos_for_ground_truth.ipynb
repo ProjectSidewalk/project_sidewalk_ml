{
 "cells": [
  {
   "cell_type": "markdown",
   "metadata": {},
   "source": [
    "# Explaination\n",
    "\n",
    "Here we're gonna randomly sample 100 of each feature type from the val set, then add in extras to get to 400 panos total."
   ]
  },
  {
   "cell_type": "code",
   "execution_count": 12,
   "metadata": {},
   "outputs": [],
   "source": [
    "import csv\n",
    "from collections import defaultdict\n",
    "import numpy\n",
    "import os\n",
    "import random"
   ]
  },
  {
   "cell_type": "code",
   "execution_count": 5,
   "metadata": {},
   "outputs": [],
   "source": [
    "repo_path = '/Users/galenweld/project_sidewalk_ml'\n",
    "path_to_labels    = os.path.join(repo_path, 'visualizations/minus_onboard.csv')\n",
    "path_to_train_set = os.path.join(repo_path, 'dataset_csvs/Train.csv')\n",
    "path_to_val_set   = os.path.join(repo_path, 'dataset_csvs/Val.csv')"
   ]
  },
  {
   "cell_type": "code",
   "execution_count": 6,
   "metadata": {},
   "outputs": [
    {
     "name": "stdout",
     "output_type": "stream",
     "text": [
      "Pano ID SV_x SV_y Label Photographer Heading Heading Label ID\n"
     ]
    }
   ],
   "source": [
    "with open(path_to_train_set) as f:\n",
    "    reader = csv.reader(f)\n",
    "    header_row = next(reader)\n",
    "print \" \".join(header_row)"
   ]
  },
  {
   "cell_type": "code",
   "execution_count": 8,
   "metadata": {},
   "outputs": [],
   "source": [
    "train_panos = set()\n",
    "\n",
    "with open(path_to_train_set) as f:\n",
    "    reader = csv.reader(f)\n",
    "    for row in reader:\n",
    "        pano_id = row[0]\n",
    "        train_panos.add(pano_id)\n",
    "train_panos.remove(\"Pano ID\")"
   ]
  },
  {
   "cell_type": "code",
   "execution_count": 9,
   "metadata": {},
   "outputs": [],
   "source": [
    "val_panos = set()\n",
    "\n",
    "with open(path_to_val_set) as f:\n",
    "    reader = csv.reader(f)\n",
    "    for row in reader:\n",
    "        pano_id = row[0]\n",
    "        val_panos.add(pano_id)\n",
    "val_panos.remove(\"Pano ID\")"
   ]
  },
  {
   "cell_type": "code",
   "execution_count": 11,
   "metadata": {},
   "outputs": [
    {
     "data": {
      "text/plain": [
       "(46463, 5774)"
      ]
     },
     "execution_count": 11,
     "metadata": {},
     "output_type": "execute_result"
    }
   ],
   "source": [
    "len(train_panos), len(val_panos)"
   ]
  },
  {
   "cell_type": "code",
   "execution_count": 25,
   "metadata": {},
   "outputs": [
    {
     "name": "stdout",
     "output_type": "stream",
     "text": [
      "Label Num Panos\n",
      "  1   4075\n",
      "  2   1106\n",
      "  3   1417\n",
      "  4   685\n"
     ]
    }
   ],
   "source": [
    "panos_by_label = defaultdict(set)\n",
    "\n",
    "with open(path_to_labels) as f:\n",
    "    reader = csv.reader(f)\n",
    "    for row in reader:\n",
    "        pano_id = row[0]\n",
    "        label = int(row[3])\n",
    "        if label in (1,2,3,4) and pano_id in val_panos:\n",
    "            panos_by_label[label].add(pano_id)\n",
    "\n",
    "print \"{:^6}{}\".format(\"Label\", \"Num Panos\")\n",
    "for label, panos in panos_by_label.items():\n",
    "    print \"{:^6}{}\".format(label, len(panos))"
   ]
  },
  {
   "cell_type": "code",
   "execution_count": 31,
   "metadata": {},
   "outputs": [
    {
     "name": "stdout",
     "output_type": "stream",
     "text": [
      "Label Num Panos\n",
      "  1   100\n",
      "  2   100\n",
      "  3   100\n",
      "  4   100\n"
     ]
    }
   ],
   "source": [
    "sampled_panos = {}\n",
    "\n",
    "for label, panos in panos_by_label.items():\n",
    "    s = set()\n",
    "    while len(s) < 100:\n",
    "        num_needed = 100- len(s)\n",
    "        s |= set( random.sample(panos, num_needed) )\n",
    "    sampled_panos[label] = s\n",
    "\n",
    "print \"{:^6}{}\".format(\"Label\", \"Num Panos\")\n",
    "for label, panos in sampled_panos.items():\n",
    "    print \"{:^6}{}\".format(label, len(panos))"
   ]
  },
  {
   "cell_type": "code",
   "execution_count": 36,
   "metadata": {},
   "outputs": [
    {
     "name": "stdout",
     "output_type": "stream",
     "text": [
      "396\n"
     ]
    }
   ],
   "source": [
    "all_samples = set()\n",
    "for s in sampled_panos.values():\n",
    "    all_samples |= s\n",
    "print len(all_samples)"
   ]
  },
  {
   "cell_type": "code",
   "execution_count": 37,
   "metadata": {},
   "outputs": [
    {
     "name": "stdout",
     "output_type": "stream",
     "text": [
      "400\n"
     ]
    }
   ],
   "source": [
    "while len(all_samples) < 400:\n",
    "    all_samples |= set( random.sample(panos_by_label[1],1) )\n",
    "print len(all_samples)"
   ]
  },
  {
   "cell_type": "code",
   "execution_count": 39,
   "metadata": {},
   "outputs": [],
   "source": [
    "with open('sampled_panos_for_ground_truth.txt', 'w') as f:\n",
    "    for pano_id in all_samples:\n",
    "        f.writelines(pano_id+'\\n')"
   ]
  },
  {
   "cell_type": "code",
   "execution_count": null,
   "metadata": {},
   "outputs": [],
   "source": []
  }
 ],
 "metadata": {
  "kernelspec": {
   "display_name": "Python 2",
   "language": "python",
   "name": "python2"
  },
  "language_info": {
   "codemirror_mode": {
    "name": "ipython",
    "version": 2
   },
   "file_extension": ".py",
   "mimetype": "text/x-python",
   "name": "python",
   "nbconvert_exporter": "python",
   "pygments_lexer": "ipython2",
   "version": "2.7.15"
  }
 },
 "nbformat": 4,
 "nbformat_minor": 2
}
