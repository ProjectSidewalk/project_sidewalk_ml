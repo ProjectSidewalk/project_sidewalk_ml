{
 "cells": [
  {
   "cell_type": "markdown",
   "metadata": {},
   "source": [
    "# Explaination\n",
    "\n",
    "This is file is to help export csvs (to then be cropped using GSVutils.utils.bulk_export_crops) for the old dataset containing crops directly around labeled features (as opposed to to the new dataset which has crops made from sliding window points).\n",
    "\n",
    "The reason we need a new file is because here we are re-making the old dataset (including remaking the null crops from esther's csv) so that we can recrop them and include sidecar files that have metadata. GSVutils.utils.bulk_export_crops automatically writes these metadata sidecars, we just need to give it a list of the crops to make.\n",
    "\n",
    "We're going to select labels for the training and val sets using the existing partitions (at the pano level) that were made for the new sliding window dataset"
   ]
  },
  {
   "cell_type": "code",
   "execution_count": 1,
   "metadata": {},
   "outputs": [],
   "source": [
    "import csv\n",
    "from collections import defaultdict\n",
    "import numpy\n",
    "import GSVutils.point as point"
   ]
  },
  {
   "cell_type": "code",
   "execution_count": 12,
   "metadata": {},
   "outputs": [],
   "source": [
    "path_to_labels    = '/mnt/c/Users/gweld/sidewalk/minus_onboard.csv'\n",
    "path_to_nulls     = '/mnt/c/Users/gweld/sidewalk/random_null_crops.csv'\n",
    "path_to_train_set = '/mnt/c/Users/gweld/sidewalk/sidewalk_ml/dataset_csvs/Train.csv'\n",
    "path_to_val_set   = '/mnt/c/Users/gweld/sidewalk/sidewalk_ml/dataset_csvs/Val.csv'"
   ]
  },
  {
   "cell_type": "code",
   "execution_count": 18,
   "metadata": {},
   "outputs": [
    {
     "name": "stdout",
     "output_type": "stream",
     "text": [
      "Pano ID SV_x SV_y Label Photographer Heading Heading Label ID\n"
     ]
    }
   ],
   "source": [
    "with open(path_to_train_set) as f:\n",
    "    reader = csv.reader(f)\n",
    "    header_row = next(reader)\n",
    "print \" \".join(header_row)"
   ]
  },
  {
   "cell_type": "markdown",
   "metadata": {},
   "source": [
    "# get train and val set panos"
   ]
  },
  {
   "cell_type": "code",
   "execution_count": 4,
   "metadata": {},
   "outputs": [],
   "source": [
    "train_panos = set()\n",
    "\n",
    "with open(path_to_train_set) as f:\n",
    "    reader = csv.reader(f)\n",
    "    for row in reader:\n",
    "        pano_id = row[0]\n",
    "        train_panos.add(pano_id)\n",
    "train_panos.remove(\"Pano ID\")"
   ]
  },
  {
   "cell_type": "code",
   "execution_count": 5,
   "metadata": {},
   "outputs": [],
   "source": [
    "val_panos = set()\n",
    "\n",
    "with open(path_to_val_set) as f:\n",
    "    reader = csv.reader(f)\n",
    "    for row in reader:\n",
    "        pano_id = row[0]\n",
    "        val_panos.add(pano_id)\n",
    "val_panos.remove(\"Pano ID\")"
   ]
  },
  {
   "cell_type": "code",
   "execution_count": 6,
   "metadata": {},
   "outputs": [
    {
     "data": {
      "text/plain": [
       "(46463, 5774)"
      ]
     },
     "execution_count": 6,
     "metadata": {},
     "output_type": "execute_result"
    }
   ],
   "source": [
    "len(train_panos), len(val_panos)"
   ]
  },
  {
   "cell_type": "markdown",
   "metadata": {},
   "source": [
    "# copy rows into dicts"
   ]
  },
  {
   "cell_type": "code",
   "execution_count": 22,
   "metadata": {},
   "outputs": [
    {
     "name": "stdout",
     "output_type": "stream",
     "text": [
      "160013 19748\n"
     ]
    }
   ],
   "source": [
    "val_rows =   []\n",
    "train_rows = []\n",
    "\n",
    "with open(path_to_labels) as f:\n",
    "\n",
    "    reader = csv.reader(f)\n",
    "    for row in reader:\n",
    "        pano_id = row[0]\n",
    "        label = row[3]\n",
    "        if label not in ('1', '2', '3', '4'):\n",
    "            # skip label types we don't care about\n",
    "            continue\n",
    "        if pano_id in train_panos: train_rows.append(row)\n",
    "        elif pano_id in val_panos:   val_rows.append(row)\n",
    "\n",
    "print len(train_rows), len(val_rows)"
   ]
  },
  {
   "cell_type": "markdown",
   "metadata": {},
   "source": [
    "# add in nulls"
   ]
  },
  {
   "cell_type": "code",
   "execution_count": 23,
   "metadata": {},
   "outputs": [
    {
     "name": "stdout",
     "output_type": "stream",
     "text": [
      "166030 20543\n"
     ]
    }
   ],
   "source": [
    "with open(path_to_nulls) as f:\n",
    "\n",
    "    reader = csv.reader(f)\n",
    "    for row in reader:\n",
    "        pano_id = row[0]\n",
    "        if pano_id in train_panos: train_rows.append(row)\n",
    "        elif pano_id in val_panos:   val_rows.append(row)\n",
    "\n",
    "print len(train_rows), len(val_rows)"
   ]
  },
  {
   "cell_type": "markdown",
   "metadata": {},
   "source": [
    "# write these badies to files"
   ]
  },
  {
   "cell_type": "code",
   "execution_count": 24,
   "metadata": {},
   "outputs": [],
   "source": [
    "path_to_train_set_out = '/mnt/c/Users/gweld/sidewalk/sidewalk_ml/new_old_dataset_csvs/Train.csv'\n",
    "path_to_val_set_out   = '/mnt/c/Users/gweld/sidewalk/sidewalk_ml/new_old_dataset_csvs/Val.csv'"
   ]
  },
  {
   "cell_type": "code",
   "execution_count": 25,
   "metadata": {},
   "outputs": [
    {
     "name": "stdout",
     "output_type": "stream",
     "text": [
      "Wrote 166030 items to /mnt/c/Users/gweld/sidewalk/sidewalk_ml/new_old_dataset_csvs/Train.csv\n",
      "    1 119799\n",
      "    8 6017\n",
      "    3 17519\n",
      "    2 15692\n",
      "    4 7003\n",
      "\n",
      "Wrote 20543 items to /mnt/c/Users/gweld/sidewalk/sidewalk_ml/new_old_dataset_csvs/Val.csv\n",
      "    1 14697\n",
      "    8 795\n",
      "    3 2192\n",
      "    2 1979\n",
      "    4 880\n",
      "\n"
     ]
    }
   ],
   "source": [
    "for dataset, path in [(train_rows, path_to_train_set_out), (val_rows, path_to_val_set_out)]:\n",
    "    with open(path, 'w') as f:\n",
    "        writer = csv.writer(f)\n",
    "        writer.writerow(header_row)\n",
    "        count = defaultdict(int)\n",
    "        for row in dataset:\n",
    "            label = row[3]\n",
    "            writer.writerow(row)\n",
    "            count[label] += 1\n",
    "    print \"Wrote {} items to {}\".format(sum(count.values()), path)\n",
    "    for label, count in count.items():\n",
    "        print \"{:>5} {}\".format(label, count)\n",
    "    print \"\""
   ]
  },
  {
   "cell_type": "code",
   "execution_count": null,
   "metadata": {},
   "outputs": [],
   "source": []
  }
 ],
 "metadata": {
  "kernelspec": {
   "display_name": "Python [conda env:sidewalk_pytorch]",
   "language": "python",
   "name": "conda-env-sidewalk_pytorch-py"
  },
  "language_info": {
   "codemirror_mode": {
    "name": "ipython",
    "version": 2
   },
   "file_extension": ".py",
   "mimetype": "text/x-python",
   "name": "python",
   "nbconvert_exporter": "python",
   "pygments_lexer": "ipython2",
   "version": "2.7.15"
  }
 },
 "nbformat": 4,
 "nbformat_minor": 2
}
