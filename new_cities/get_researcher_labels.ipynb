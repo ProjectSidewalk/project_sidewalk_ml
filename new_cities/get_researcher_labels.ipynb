{
 "cells": [
  {
   "cell_type": "code",
   "execution_count": 5,
   "metadata": {},
   "outputs": [],
   "source": [
    "import csv\n",
    "import os\n",
    "from collections import defaultdict"
   ]
  },
  {
   "cell_type": "code",
   "execution_count": 15,
   "metadata": {},
   "outputs": [],
   "source": [
    "newberg_csv = 'newberg-labels.csv'\n",
    "seattle_csv = 'seattle-labels.csv'"
   ]
  },
  {
   "cell_type": "code",
   "execution_count": 37,
   "metadata": {},
   "outputs": [],
   "source": [
    "label_from_int   = ('Curb Cut', 'Missing Cut', 'Obstruction', 'Sfc Problem', '5', '6', '7')"
   ]
  },
  {
   "cell_type": "code",
   "execution_count": 38,
   "metadata": {},
   "outputs": [
    {
     "name": "stdout",
     "output_type": "stream",
     "text": [
      "['gsv_panorama_id', 'sv_image_x', 'sv_image_y', 'label_type_id', 'photagrapher_heading', 'heading', 'is_researcher']\n",
      "['stxXyCKAbd73DmkM2vsIHA', '9676', '-455', '1', '50.4137916565', '253.375', 't']\n"
     ]
    }
   ],
   "source": [
    "with open(newberg_csv) as f:\n",
    "    reader = csv.reader(f)\n",
    "    print next(reader)\n",
    "    print next(reader)"
   ]
  },
  {
   "cell_type": "code",
   "execution_count": 42,
   "metadata": {},
   "outputs": [
    {
     "name": "stdout",
     "output_type": "stream",
     "text": [
      "Processing panos from newberg-labels.csv\n",
      "Finished processing 4912 labels. Kept 2930.\n",
      "Label            Total   Kept\n",
      "Curb Cut          1063    756\n",
      "Obstruction        395    128\n",
      "Missing Cut        566    245\n",
      "Sfc Problem        513    186\n",
      "7                 2202   1579\n",
      "6                   62     36\n",
      "\n",
      "Processing panos from seattle-labels.csv\n",
      "Finished processing 6052 labels. Kept 1205.\n",
      "Label            Total   Kept\n",
      "Curb Cut          3061    418\n",
      "Obstruction        479     87\n",
      "Missing Cut       1190    237\n",
      "Sfc Problem        688    233\n",
      "7                  610    217\n",
      "6                   21     13\n",
      "\n"
     ]
    }
   ],
   "source": [
    "for input_file in (newberg_csv, seattle_csv):\n",
    "    output_file, _ = os.path.splitext(input_file)\n",
    "    output_file += '-researchers.csv'\n",
    "    \n",
    "    with open(input_file) as input_f, open(output_file, 'w') as output_f:\n",
    "        print \"Processing panos from {}\".format(input_file)\n",
    "        kept_count = defaultdict(int)\n",
    "        all_count  = defaultdict(int)\n",
    "        \n",
    "        reader = csv.DictReader(input_f)\n",
    "        header = reader.fieldnames\n",
    "        writer = csv.DictWriter(output_f, header)\n",
    "        for row in reader:\n",
    "            label = row['label_type_id']\n",
    "            all_count[label] += 1\n",
    "            if row[\"is_researcher\"] == 't':\n",
    "                kept_count[label] += 1\n",
    "                writer.writerow(row)\n",
    "                \n",
    "        print \"Finished processing {} labels. Kept {}.\".format(sum(all_count.values()), sum(kept_count.values()))\n",
    "        print \"{:<15} {:>6} {:>6}\".format(\"Label\", \"Total\", \"Kept\")\n",
    "        for label, kept in kept_count.items():\n",
    "            total = all_count[label]\n",
    "            print \"{:<15} {:>6} {:>6}\".format(label_from_int[int(label)-1], total, kept)\n",
    "        print \"\""
   ]
  },
  {
   "cell_type": "code",
   "execution_count": null,
   "metadata": {},
   "outputs": [],
   "source": []
  }
 ],
 "metadata": {
  "kernelspec": {
   "display_name": "Python 2",
   "language": "python",
   "name": "python2"
  },
  "language_info": {
   "codemirror_mode": {
    "name": "ipython",
    "version": 2
   },
   "file_extension": ".py",
   "mimetype": "text/x-python",
   "name": "python",
   "nbconvert_exporter": "python",
   "pygments_lexer": "ipython2",
   "version": "2.7.15"
  }
 },
 "nbformat": 4,
 "nbformat_minor": 2
}
